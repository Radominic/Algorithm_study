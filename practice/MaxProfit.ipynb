{
 "cells": [
  {
   "cell_type": "code",
   "execution_count": 2,
   "metadata": {},
   "outputs": [],
   "source": [
    "from typing import List"
   ]
  },
  {
   "cell_type": "code",
   "execution_count": 10,
   "metadata": {},
   "outputs": [],
   "source": [
    "class maxProfit:\n",
    "    def bruteForce(self, prices : List[int]) -> int:\n",
    "        max_price = 0\n",
    "        for i in range(len(prices)):\n",
    "            for j in range(i+1,len(prices)):\n",
    "                max_price = max(max_price,prices[j]-prices[i])\n",
    "        return max_price\n",
    "    def pointer(self, prices : List[int]) -> int:\n",
    "        profit = 0\n",
    "        min_price = float('inf')\n",
    "        for i in range(len(prices)):\n",
    "            min_price = min(min_price,prices[i])\n",
    "            profit = max(profit,prices[i]-min_price)\n",
    "            \n",
    "        return profit"
   ]
  },
  {
   "cell_type": "code",
   "execution_count": 11,
   "metadata": {},
   "outputs": [
    {
     "name": "stdout",
     "output_type": "stream",
     "text": [
      "5\n",
      "5\n"
     ]
    }
   ],
   "source": [
    "nums = [7,1,5,3,6,4]\n",
    "print(maxProfit().bruteForce(nums))\n",
    "print(maxProfit().pointer(nums))\n"
   ]
  },
  {
   "cell_type": "code",
   "execution_count": null,
   "metadata": {},
   "outputs": [],
   "source": []
  }
 ],
 "metadata": {
  "kernelspec": {
   "display_name": "fw",
   "language": "python",
   "name": "python3"
  },
  "language_info": {
   "codemirror_mode": {
    "name": "ipython",
    "version": 3
   },
   "file_extension": ".py",
   "mimetype": "text/x-python",
   "name": "python",
   "nbconvert_exporter": "python",
   "pygments_lexer": "ipython3",
   "version": "3.8.16"
  },
  "orig_nbformat": 4
 },
 "nbformat": 4,
 "nbformat_minor": 2
}
