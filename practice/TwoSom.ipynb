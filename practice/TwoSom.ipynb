{
 "cells": [
  {
   "cell_type": "code",
   "execution_count": 2,
   "metadata": {},
   "outputs": [],
   "source": [
    "from typing import List"
   ]
  },
  {
   "cell_type": "code",
   "execution_count": 60,
   "metadata": {},
   "outputs": [],
   "source": [
    "class TwoSom:\n",
    "    # 복잡도 n^2\n",
    "    def bruteForce(self,nums:List[int],target:int) ->List[int]:\n",
    "        for i in range(len(nums)):\n",
    "            for j in range(i+1,len(nums)):\n",
    "                if nums[i]+nums[j] == target:\n",
    "                    return [i,j]\n",
    "\n",
    "    # 복잡도 <n^2\n",
    "    def compareIn(self,nums:List[int],target:int) -> List[int]:\n",
    "        for i,n in enumerate(nums):\n",
    "            if target-n in nums[i+1:]:\n",
    "                return[i,nums[i+1:].index(target-n)+(i+1)]\n",
    "\n",
    "    # 복잡도 n, dict에 넣고 비교\n",
    "    def compareDict(self,nums:List[int],target:int) -> List[int]:\n",
    "        numsDict = {}\n",
    "        for i,n in enumerate(nums):\n",
    "            numsDict[n] = i\n",
    "        for i,n in enumerate(nums):\n",
    "            if target-n in numsDict and i != numsDict[target-n]:\n",
    "                return [i,numsDict[target-n]]\n",
    "    \n",
    "    # 복잡도 n, for문 하나 사용\n",
    "    def compareDict2(self,nums:List[int],target:int) -> List[int]:\n",
    "        numsDict = {}\n",
    "        for i,n in enumerate(nums):\n",
    "            if target-n in numsDict:\n",
    "                return [numsDict[target-n],i]\n",
    "            numsDict[n] =i\n"
   ]
  },
  {
   "cell_type": "code",
   "execution_count": 61,
   "metadata": {},
   "outputs": [
    {
     "name": "stdout",
     "output_type": "stream",
     "text": [
      "[0, 1]\n",
      "[0, 1]\n",
      "[0, 1]\n",
      "[0, 1]\n"
     ]
    }
   ],
   "source": [
    "s = TwoSom()\n",
    "print(s.bruteForce([2,7,11,15],9))\n",
    "print(s.compareIn([2,7,11,15],9))\n",
    "print(s.compareDict([2,7,11,15],9))\n",
    "print(s.compareDict2([2,7,11,15],9))"
   ]
  },
  {
   "cell_type": "code",
   "execution_count": null,
   "metadata": {},
   "outputs": [],
   "source": []
  }
 ],
 "metadata": {
  "kernelspec": {
   "display_name": "fw",
   "language": "python",
   "name": "python3"
  },
  "language_info": {
   "codemirror_mode": {
    "name": "ipython",
    "version": 3
   },
   "file_extension": ".py",
   "mimetype": "text/x-python",
   "name": "python",
   "nbconvert_exporter": "python",
   "pygments_lexer": "ipython3",
   "version": "3.8.16"
  },
  "orig_nbformat": 4,
  "vscode": {
   "interpreter": {
    "hash": "c376df81214ae476ffb130b9de1c3031302e86c50c49eddb48456331836c724a"
   }
  }
 },
 "nbformat": 4,
 "nbformat_minor": 2
}
