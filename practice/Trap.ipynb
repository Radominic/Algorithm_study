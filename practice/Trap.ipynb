{
 "cells": [
  {
   "cell_type": "code",
   "execution_count": 2,
   "metadata": {},
   "outputs": [],
   "source": [
    "from typing import List"
   ]
  },
  {
   "cell_type": "code",
   "execution_count": 12,
   "metadata": {},
   "outputs": [],
   "source": [
    "class Trap:\n",
    "    def twoPointer(self,height:List[int]) -> int:\n",
    "        if not height:\n",
    "            return 0\n",
    "        volume = 0\n",
    "        left, right = 0, len(height)-1\n",
    "        leftMax, rightMax = height[left], height[right]\n",
    "\n",
    "        while left<right:\n",
    "            leftMax = max(height[left],leftMax)\n",
    "            rightMax = max(height[right],rightMax)\n",
    "\n",
    "            # 어느쪽이든 작은쪽이 전진하도록, 가장 높은곳에서 두 포인터가 만남\n",
    "            if height[left] <= height[right]:\n",
    "                volume += leftMax-height[left]\n",
    "                left+=1\n",
    "            else:\n",
    "                volume += rightMax-height[right]\n",
    "                right-=1\n",
    "        return volume\n",
    "    def toStack(self,height:List[int]) -> int:\n",
    "        if not height:\n",
    "            return 0\n",
    "        volume = 0\n",
    "        stack = []\n",
    "        for i in range(0,len(height)):\n",
    "            # 스택에서 꺼내서 이전 높이와 비교\n",
    "            while stack and height[stack[-1]] < height[i]:\n",
    "                top = stack.pop()\n",
    "                # 왼쪽이 비었을때\n",
    "                if not stack:\n",
    "                    break\n",
    "                # 고인 부분의 길이\n",
    "                distance = i - stack[-1] -1\n",
    "                water = min(height[i],height[stack[-1]])-height[top]\n",
    "                volume += distance*water\n",
    "            stack.append(i)\n",
    "        return volume"
   ]
  },
  {
   "cell_type": "code",
   "execution_count": 13,
   "metadata": {},
   "outputs": [
    {
     "name": "stdout",
     "output_type": "stream",
     "text": [
      "6\n",
      "6\n"
     ]
    }
   ],
   "source": [
    "nums = [0,1,0,2,1,0,1,3,2,1,2,1]\n",
    "print(Trap().twoPointer(nums))\n",
    "print(Trap().toStack(nums))"
   ]
  },
  {
   "cell_type": "code",
   "execution_count": null,
   "metadata": {},
   "outputs": [],
   "source": []
  }
 ],
 "metadata": {
  "kernelspec": {
   "display_name": "Python 3",
   "language": "python",
   "name": "python3"
  },
  "language_info": {
   "codemirror_mode": {
    "name": "ipython",
    "version": 3
   },
   "file_extension": ".py",
   "mimetype": "text/x-python",
   "name": "python",
   "nbconvert_exporter": "python",
   "pygments_lexer": "ipython3",
   "version": "3.6.9"
  },
  "orig_nbformat": 4,
  "vscode": {
   "interpreter": {
    "hash": "31f2aee4e71d21fbe5cf8b01ff0e069b9275f58929596ceb00d14d90e3e16cd6"
   }
  }
 },
 "nbformat": 4,
 "nbformat_minor": 2
}
