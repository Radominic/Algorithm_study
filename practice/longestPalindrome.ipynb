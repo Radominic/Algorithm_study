{
 "cells": [
  {
   "cell_type": "code",
   "execution_count": 5,
   "metadata": {},
   "outputs": [],
   "source": [
    "def logestPalindrome(s:str)-> str:\n",
    "\n",
    "    def expand(left:int, right:int) -> str:\n",
    "        while left >= 0 and right < len(s) and s[left] == s[right]:\n",
    "            left -=1\n",
    "            right +=1\n",
    "        return s[left+1:right]\n",
    "\n",
    "    # 예외처리를 통해 속도 감소\n",
    "    if len(s)<2 or s==s[::-1]: # s[::-1] 슬라이싱을 통해 가장빠르게 리스트 뒤집기\n",
    "        return s\n",
    "\n",
    "    result = ''\n",
    "\n",
    "    for i in range(0,len(s)-1):\n",
    "        result = max(result,\n",
    "                    expand(i,i+1),\n",
    "                    expand(i,i+2),\n",
    "                    key=len)\n",
    "    return result"
   ]
  },
  {
   "cell_type": "code",
   "execution_count": 6,
   "metadata": {},
   "outputs": [
    {
     "data": {
      "text/plain": [
       "'bcb'"
      ]
     },
     "execution_count": 6,
     "metadata": {},
     "output_type": "execute_result"
    }
   ],
   "source": [
    "logestPalindrome('abcbca')"
   ]
  },
  {
   "cell_type": "code",
   "execution_count": null,
   "metadata": {},
   "outputs": [],
   "source": []
  }
 ],
 "metadata": {
  "kernelspec": {
   "display_name": "Python 3.7.3 ('base': conda)",
   "language": "python",
   "name": "python3"
  },
  "language_info": {
   "codemirror_mode": {
    "name": "ipython",
    "version": 3
   },
   "file_extension": ".py",
   "mimetype": "text/x-python",
   "name": "python",
   "nbconvert_exporter": "python",
   "pygments_lexer": "ipython3",
   "version": "3.7.4"
  },
  "orig_nbformat": 4,
  "vscode": {
   "interpreter": {
    "hash": "64f5665c069ed123f08e263bce21a46dda432185937c21e1328da492feb68f58"
   }
  }
 },
 "nbformat": 4,
 "nbformat_minor": 2
}
