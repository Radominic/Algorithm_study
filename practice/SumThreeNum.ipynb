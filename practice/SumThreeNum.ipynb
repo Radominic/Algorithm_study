{
 "cells": [
  {
   "cell_type": "code",
   "execution_count": 4,
   "metadata": {},
   "outputs": [],
   "source": [
    "from typing import List"
   ]
  },
  {
   "cell_type": "code",
   "execution_count": 29,
   "metadata": {},
   "outputs": [],
   "source": [
    "class ThreeSum:\n",
    "    def bruteForce(self, nums: List[int]) -> List[List[int]]:\n",
    "        results = []\n",
    "        nums.sort()\n",
    "\n",
    "        for i in range(len(nums)-2):\n",
    "            if nums[i] == nums[i-1]:\n",
    "                continue\n",
    "            for j in range(i+1,len(nums)-1):\n",
    "                if j>i+1 and nums[j] == nums[j-1]:\n",
    "                    continue\n",
    "                for k in range(j+1,len(nums)):\n",
    "                    if k>j+1 and nums[k] == nums[k-1]:\n",
    "                        continue\n",
    "                    if nums[i] + nums[j] + nums[k] == 0:\n",
    "                        results.append([nums[i] , nums[j] , nums[k]])\n",
    "        return results\n",
    "    def twoPointer(self, nums: List[int]) -> List[List[int]]:\n",
    "        nums.sort()\n",
    "        results=[]\n",
    "        for i in range(len(nums)-2):\n",
    "            if nums[i]==nums[i-1]:\n",
    "                continue\n",
    "            left, right = i+1, len(nums)-1\n",
    "            while left<right:\n",
    "                s = nums[i] + nums[left] + nums[right]\n",
    "                if s < 0:\n",
    "                    left+=1\n",
    "                elif s > 0:\n",
    "                    right-=1\n",
    "                else:\n",
    "                    results.append([nums[i] , nums[left] , nums[right]])\n",
    "                    while left<right and nums[left]==nums[left+1]:\n",
    "                        left +=1\n",
    "                    while left<right and nums[right]==nums[right-1]: \n",
    "                        rigth-=1\n",
    "                    left+=1\n",
    "                    right-=1\n",
    "        return results\n"
   ]
  },
  {
   "cell_type": "code",
   "execution_count": 30,
   "metadata": {},
   "outputs": [
    {
     "name": "stdout",
     "output_type": "stream",
     "text": [
      "[[-1, -1, 2], [-1, 0, 1]]\n",
      "[[-1, -1, 2], [-1, 0, 1]]\n"
     ]
    }
   ],
   "source": [
    "print(ThreeSum().bruteForce([-1,0,1,2,-1,-4]))\n",
    "print(ThreeSum().twoPointer([-1,0,1,2,-1,-4]))\n"
   ]
  },
  {
   "cell_type": "code",
   "execution_count": null,
   "metadata": {},
   "outputs": [],
   "source": []
  }
 ],
 "metadata": {
  "kernelspec": {
   "display_name": "fw",
   "language": "python",
   "name": "python3"
  },
  "language_info": {
   "codemirror_mode": {
    "name": "ipython",
    "version": 3
   },
   "file_extension": ".py",
   "mimetype": "text/x-python",
   "name": "python",
   "nbconvert_exporter": "python",
   "pygments_lexer": "ipython3",
   "version": "3.8.16"
  },
  "orig_nbformat": 4,
  "vscode": {
   "interpreter": {
    "hash": "c376df81214ae476ffb130b9de1c3031302e86c50c49eddb48456331836c724a"
   }
  }
 },
 "nbformat": 4,
 "nbformat_minor": 2
}
