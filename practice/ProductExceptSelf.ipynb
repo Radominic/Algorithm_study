{
 "cells": [
  {
   "cell_type": "code",
   "execution_count": 1,
   "metadata": {},
   "outputs": [],
   "source": [
    "from typing import List"
   ]
  },
  {
   "cell_type": "code",
   "execution_count": 9,
   "metadata": {},
   "outputs": [],
   "source": [
    "class productExceptSelf:\n",
    "    def series(self,nums:List[int])->List[int]:\n",
    "        results=[1]\n",
    "        for i in range(len(nums)-1):\n",
    "            results.append(results[i]*nums[i])\n",
    "        p=1\n",
    "        for i in range(len(nums)-2,-1,-1):\n",
    "            p *= nums[i+1]\n",
    "            results[i] = results[i]*p\n",
    "        return results\n"
   ]
  },
  {
   "cell_type": "code",
   "execution_count": 10,
   "metadata": {},
   "outputs": [
    {
     "name": "stdout",
     "output_type": "stream",
     "text": [
      "[24, 12, 8, 6]\n"
     ]
    }
   ],
   "source": [
    "print(productExceptSelf().series([1,2,3,4]))"
   ]
  }
 ],
 "metadata": {
  "kernelspec": {
   "display_name": "fw",
   "language": "python",
   "name": "python3"
  },
  "language_info": {
   "codemirror_mode": {
    "name": "ipython",
    "version": 3
   },
   "file_extension": ".py",
   "mimetype": "text/x-python",
   "name": "python",
   "nbconvert_exporter": "python",
   "pygments_lexer": "ipython3",
   "version": "3.8.16"
  },
  "orig_nbformat": 4,
  "vscode": {
   "interpreter": {
    "hash": "c376df81214ae476ffb130b9de1c3031302e86c50c49eddb48456331836c724a"
   }
  }
 },
 "nbformat": 4,
 "nbformat_minor": 2
}
