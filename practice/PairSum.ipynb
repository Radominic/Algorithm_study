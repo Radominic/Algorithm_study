{
 "cells": [
  {
   "cell_type": "code",
   "execution_count": 2,
   "metadata": {},
   "outputs": [],
   "source": [
    "from typing import List"
   ]
  },
  {
   "cell_type": "code",
   "execution_count": 15,
   "metadata": {},
   "outputs": [],
   "source": [
    "class PairSum:\n",
    "    def ascending(self,nums:List[int])->int:\n",
    "        sum=0\n",
    "        nums.sort()\n",
    "        pairs=[]\n",
    "        for n in nums:\n",
    "            pairs.append(n)\n",
    "            if len(pairs)==2:\n",
    "                sum += min(pairs)\n",
    "                pairs=[]\n",
    "        return sum\n",
    "    def even(self,nums:List[int])->int:\n",
    "        nums.sort()\n",
    "        sum=0\n",
    "        for i in range(0,len(nums),2):\n",
    "            sum+=nums[i]\n",
    "        return sum\n",
    "    def pythonic(self,nums:List[int])->int:\n",
    "        return sum(sorted(nums)[::2])\n"
   ]
  },
  {
   "cell_type": "code",
   "execution_count": 16,
   "metadata": {},
   "outputs": [
    {
     "name": "stdout",
     "output_type": "stream",
     "text": [
      "4\n",
      "4\n",
      "4\n"
     ]
    }
   ],
   "source": [
    "print(PairSum().ascending([1,4,3,2]))\n",
    "print(PairSum().even([1,4,3,2]))\n",
    "print(PairSum().pythonic([1,4,3,2]))"
   ]
  },
  {
   "cell_type": "code",
   "execution_count": null,
   "metadata": {},
   "outputs": [],
   "source": []
  }
 ],
 "metadata": {
  "kernelspec": {
   "display_name": "fw",
   "language": "python",
   "name": "python3"
  },
  "language_info": {
   "codemirror_mode": {
    "name": "ipython",
    "version": 3
   },
   "file_extension": ".py",
   "mimetype": "text/x-python",
   "name": "python",
   "nbconvert_exporter": "python",
   "pygments_lexer": "ipython3",
   "version": "3.8.16"
  },
  "orig_nbformat": 4,
  "vscode": {
   "interpreter": {
    "hash": "c376df81214ae476ffb130b9de1c3031302e86c50c49eddb48456331836c724a"
   }
  }
 },
 "nbformat": 4,
 "nbformat_minor": 2
}
