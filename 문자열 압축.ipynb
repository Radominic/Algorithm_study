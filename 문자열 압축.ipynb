{
 "cells": [
  {
   "cell_type": "code",
   "execution_count": null,
   "metadata": {},
   "outputs": [],
   "source": [
    "def solution(s):\n",
    "    answer = 1000\n",
    "    #문자열 절반 크기만큼 반복\n",
    "    if len(s) ==1:\n",
    "        return 1\n",
    "    for c in range(1,int(len(s)/2)+1):\n",
    "        #정해진 길이만큼 문자열 탐색\n",
    "        temp=\"\"\n",
    "        stack=1\n",
    "        count=0\n",
    "        for i in range(0,len(s),c):\n",
    "            #최초 문자열 저장 (i,min(i+c,len(s)))\n",
    "            if temp == \"\":\n",
    "                temp = s[i:i+c]\n",
    "            else:\n",
    "                if temp == s[i:i+c]:\n",
    "                    #문자열이 같을경우 stack 쌓기    \n",
    "                    stack+=1    \n",
    "                else:\n",
    "                    #문자열이 다를경우 초기화\n",
    "                    if stack ==1:\n",
    "                        #압축없을경우\n",
    "                        count += len(temp)\n",
    "                        #print(temp,end=\"\")\n",
    "                    else:\n",
    "                        #압축있을경우\n",
    "                        count+= len(str(stack))+len(temp)\n",
    "                        #print(stack,end=\"\")\n",
    "                        #print(temp,end=\"\")\n",
    "                        stack=1\n",
    "                    temp = s[i:i+c]\n",
    "        #마지막에 stack이 남아있을 경우\n",
    "        if stack !=1:\n",
    "            count+= len(str(stack))+len(temp)\n",
    "            #print(stack,end=\"\")\n",
    "            #print(temp,end=\"\")\n",
    "        else:\n",
    "            count+=len(temp)\n",
    "            #print(temp,end=\"\")\n",
    "        #결과 갱신\n",
    "        if count < answer:\n",
    "            answer = count\n",
    "        #print(\"\")\n",
    "    return answer"
   ]
  }
 ],
 "metadata": {
  "kernelspec": {
   "display_name": "conda",
   "language": "python",
   "name": "base"
  },
  "language_info": {
   "codemirror_mode": {
    "name": "ipython",
    "version": 3
   },
   "file_extension": ".py",
   "mimetype": "text/x-python",
   "name": "python",
   "nbconvert_exporter": "python",
   "pygments_lexer": "ipython3",
   "version": "3.7.7"
  }
 },
 "nbformat": 4,
 "nbformat_minor": 4
}
