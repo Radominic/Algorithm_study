{
 "cells": [
  {
   "cell_type": "code",
   "execution_count": 169,
   "metadata": {},
   "outputs": [],
   "source": [
    "def solution(jobs):\n",
    "    answer = 0\n",
    "    \n",
    "    #작업 들어온 순으로 정렬해주기\n",
    "    jobs = sorted(jobs)\n",
    "    \n",
    "    import heapq\n",
    "    import math\n",
    "    waiting_heap=[]\n",
    "    current_time = 0\n",
    "    \n",
    "    for start, duration in jobs:\n",
    "        #대기열에서 작업시간 가장 적은 작업부터 시작하기\n",
    "        #시작할 수 있는 작업이 늘어나면 중지\n",
    "        while waiting_heap and current_time < start:\n",
    "            ### 작업\n",
    "            temp = heapq.heappop(waiting_heap)\n",
    "            current_time += temp[0] \n",
    "            answer += current_time - temp[1]\n",
    "        #현재작업(시작 가능 작업) 대기열로 옮기기\n",
    "        heapq.heappush(waiting_heap,[duration,start])\n",
    "        #처리가능한 작업이 없을 때 요청까지 대기\n",
    "        if current_time < start:\n",
    "            current_time = start\n",
    "    #대기열 처리\n",
    "    while waiting_heap:\n",
    "        ### 작업\n",
    "        temp = heapq.heappop(waiting_heap)\n",
    "        current_time+=temp[0]\n",
    "        answer += current_time - temp[1]\n",
    "    \n",
    "    answer/=len(jobs)\n",
    "    answer = math.trunc(answer)\n",
    "    return answer"
   ]
  },
  {
   "cell_type": "code",
   "execution_count": 170,
   "metadata": {},
   "outputs": [],
   "source": [
    "jobs = [[0, 3], [1, 9], [2, 6]]"
   ]
  },
  {
   "cell_type": "code",
   "execution_count": 171,
   "metadata": {},
   "outputs": [],
   "source": [
    "jobs = [[24, 10], [28, 39], [43, 20], [37, 5], [47, 22], [20, 47], [15, 34], [15, 2], [35, 43], [26, 1]]"
   ]
  },
  {
   "cell_type": "code",
   "execution_count": 172,
   "metadata": {},
   "outputs": [
    {
     "data": {
      "text/plain": [
       "72"
      ]
     },
     "execution_count": 172,
     "metadata": {},
     "output_type": "execute_result"
    }
   ],
   "source": [
    "solution(jobs)"
   ]
  },
  {
   "cell_type": "code",
   "execution_count": null,
   "metadata": {},
   "outputs": [],
   "source": []
  }
 ],
 "metadata": {
  "kernelspec": {
   "display_name": "Python 3",
   "language": "python",
   "name": "python3"
  },
  "language_info": {
   "codemirror_mode": {
    "name": "ipython",
    "version": 3
   },
   "file_extension": ".py",
   "mimetype": "text/x-python",
   "name": "python",
   "nbconvert_exporter": "python",
   "pygments_lexer": "ipython3",
   "version": "3.6.10"
  }
 },
 "nbformat": 4,
 "nbformat_minor": 4
}
