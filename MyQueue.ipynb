{
 "cells": [
  {
   "cell_type": "code",
   "execution_count": 34,
   "metadata": {},
   "outputs": [],
   "source": [
    "class Stack:\n",
    "    def __init__(self):\n",
    "        self.stack1 = list()\n",
    "        self.stack2 = list()\n",
    "    def push(self,num):\n",
    "        self.stack1.append(num)\n",
    "        print('push : ',num)\n",
    "    def pop(self):\n",
    "        if len(self.stack2)==0:\n",
    "            for i in range(len(self.stack1)):\n",
    "                self.stack2.append(self.stack1.pop())\n",
    "            print('pop : ',self.stack2.pop())\n",
    "        else:\n",
    "            print('pop : ',self.stack2.pop())"
   ]
  },
  {
   "cell_type": "code",
   "execution_count": 35,
   "metadata": {},
   "outputs": [],
   "source": [
    "S=Stack()"
   ]
  },
  {
   "cell_type": "code",
   "execution_count": 36,
   "metadata": {},
   "outputs": [
    {
     "name": "stdout",
     "output_type": "stream",
     "text": [
      "push :  1\n",
      "push :  2\n",
      "push :  3\n",
      "push :  4\n"
     ]
    }
   ],
   "source": [
    "S.push(1)\n",
    "S.push(2)\n",
    "S.push(3)\n",
    "S.push(4)"
   ]
  },
  {
   "cell_type": "code",
   "execution_count": 37,
   "metadata": {},
   "outputs": [
    {
     "name": "stdout",
     "output_type": "stream",
     "text": [
      "[1, 2, 3, 4] []\n"
     ]
    }
   ],
   "source": [
    "print(S.stack1,S.stack2)"
   ]
  },
  {
   "cell_type": "code",
   "execution_count": 38,
   "metadata": {},
   "outputs": [
    {
     "name": "stdout",
     "output_type": "stream",
     "text": [
      "pop :  1\n"
     ]
    }
   ],
   "source": [
    "S.pop()"
   ]
  },
  {
   "cell_type": "code",
   "execution_count": 39,
   "metadata": {},
   "outputs": [
    {
     "name": "stdout",
     "output_type": "stream",
     "text": [
      "[] [4, 3, 2]\n"
     ]
    }
   ],
   "source": [
    "print(S.stack1,S.stack2)"
   ]
  },
  {
   "cell_type": "code",
   "execution_count": 41,
   "metadata": {},
   "outputs": [
    {
     "name": "stdout",
     "output_type": "stream",
     "text": [
      "push :  5\n",
      "push :  6\n"
     ]
    }
   ],
   "source": [
    "S.push(5)\n",
    "S.push(6)"
   ]
  },
  {
   "cell_type": "code",
   "execution_count": 42,
   "metadata": {},
   "outputs": [
    {
     "name": "stdout",
     "output_type": "stream",
     "text": [
      "[5, 6] [4, 3, 2]\n"
     ]
    }
   ],
   "source": [
    "print(S.stack1,S.stack2)"
   ]
  },
  {
   "cell_type": "code",
   "execution_count": 43,
   "metadata": {},
   "outputs": [
    {
     "name": "stdout",
     "output_type": "stream",
     "text": [
      "pop :  2\n"
     ]
    }
   ],
   "source": [
    "S.pop()"
   ]
  },
  {
   "cell_type": "code",
   "execution_count": 44,
   "metadata": {},
   "outputs": [
    {
     "name": "stdout",
     "output_type": "stream",
     "text": [
      "[5, 6] [4, 3]\n"
     ]
    }
   ],
   "source": [
    "print(S.stack1,S.stack2)"
   ]
  },
  {
   "cell_type": "code",
   "execution_count": null,
   "metadata": {},
   "outputs": [],
   "source": []
  }
 ],
 "metadata": {
  "kernelspec": {
   "display_name": "Python 3",
   "language": "python",
   "name": "python3"
  },
  "language_info": {
   "codemirror_mode": {
    "name": "ipython",
    "version": 3
   },
   "file_extension": ".py",
   "mimetype": "text/x-python",
   "name": "python",
   "nbconvert_exporter": "python",
   "pygments_lexer": "ipython3",
   "version": "3.6.10"
  }
 },
 "nbformat": 4,
 "nbformat_minor": 4
}
