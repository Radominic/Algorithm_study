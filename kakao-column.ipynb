{
 "cells": [
  {
   "cell_type": "code",
   "execution_count": 49,
   "metadata": {},
   "outputs": [],
   "source": [
    "def solution(n, build_frame):\n",
    "    answer = []\n",
    "    \n",
    "    #삽입 - 기존의 출발점에서 dfs를 통해서 연결할 수 있는지 확인\n",
    "    #기둥의 경우 바닥이나 기둥,보 위 에 연결가능\n",
    "    #보의 경우 기둥과 연결되거나 보와 보 사이를 연결(이 경우 주의)\n",
    "    def dfs(x,y,a):\n",
    "        visit.append([x,y])\n",
    "        if a==0:\n",
    "            y+=1\n",
    "        else:\n",
    "            x+=1\n",
    "            \n",
    "        if [x,y,0] in answer:\n",
    "            dfs(x,y,0)\n",
    "        elif [x,y,1] in answer:\n",
    "            dfs(x,y,1)\n",
    "        end.append([x,y])\n",
    "        return \n",
    "    \n",
    "    for i in build_frame:\n",
    "        x,y,a,b = i\n",
    "        \n",
    "        if b==1: # 설치\n",
    "            if y==0:\n",
    "                answer.append([x,y,a])\n",
    "            else:\n",
    "                visit = []\n",
    "                end = []\n",
    "                for j in answer:# 순회하면서 연결된 것 확인\n",
    "                    if [j[0],j[1]] not in visit:\n",
    "                        dfs(j[0],j[1],j[2])\n",
    "                        \n",
    "                \n",
    "        elif b==0: # 삭제\n",
    "            pass\n",
    "    \n",
    "    #삭제 - dfs를 통해서 규칙에 위배되지 않는 지 확인\n",
    "    \n",
    "    \n",
    "    return answer"
   ]
  },
  {
   "cell_type": "code",
   "execution_count": 50,
   "metadata": {},
   "outputs": [
    {
     "name": "stdout",
     "output_type": "stream",
     "text": [
      "[[1, 1]]\n"
     ]
    },
    {
     "data": {
      "text/plain": [
       "[[1, 0, 0]]"
      ]
     },
     "execution_count": 50,
     "metadata": {},
     "output_type": "execute_result"
    }
   ],
   "source": [
    "#solution(5,[[1,0,0,1],[1,1,1,1],[2,1,0,1],[2,2,1,1],[5,0,0,1],[5,1,0,1],[4,2,1,1],[3,2,1,1]])\n",
    "solution(5,[[1,0,0,1],[1,1,1,1]])"
   ]
  },
  {
   "cell_type": "code",
   "execution_count": null,
   "metadata": {},
   "outputs": [],
   "source": []
  }
 ],
 "metadata": {
  "kernelspec": {
   "display_name": "conda",
   "language": "python",
   "name": "base"
  },
  "language_info": {
   "codemirror_mode": {
    "name": "ipython",
    "version": 3
   },
   "file_extension": ".py",
   "mimetype": "text/x-python",
   "name": "python",
   "nbconvert_exporter": "python",
   "pygments_lexer": "ipython3",
   "version": "3.7.7"
  }
 },
 "nbformat": 4,
 "nbformat_minor": 2
}
