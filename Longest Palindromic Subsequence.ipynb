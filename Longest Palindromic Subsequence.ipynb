{
 "cells": [
  {
   "cell_type": "code",
   "execution_count": 6,
   "metadata": {},
   "outputs": [],
   "source": [
    "s = \"bbbab\""
   ]
  },
  {
   "cell_type": "code",
   "execution_count": 10,
   "metadata": {},
   "outputs": [
    {
     "name": "stdout",
     "output_type": "stream",
     "text": [
      "{}\n",
      "{}\n",
      "{}\n",
      "{}\n",
      "{}\n",
      "{(3, 3): 1}\n",
      "{(3, 3): 1}\n",
      "{(3, 3): 1, (2, 2): 1, (2, 3): 1}\n",
      "{(3, 3): 1, (2, 2): 1, (2, 3): 1}\n"
     ]
    },
    {
     "data": {
      "text/plain": [
       "4"
      ]
     },
     "execution_count": 10,
     "metadata": {},
     "output_type": "execute_result"
    }
   ],
   "source": [
    "mem = {}\n",
    "def dp(i,j):\n",
    "    key = (i,j) # dp 중복문제 제거\n",
    "    if key in mem:\n",
    "        return mem[key]\n",
    "    if i > j: # index 역전된 경우\n",
    "        return 0 # flag = 0\n",
    "    if s[i] == s[j]: # 같은 수 일 경우\n",
    "        if i==j: # 한 숫자에서 만나면 1 추가\n",
    "            flag = 1\n",
    "        else:\n",
    "            flag = 2 # 아닐경우 2 추가\n",
    "        ans = dp(i+1,j-1) + flag # flag 추가하고 나머지 dp 돌리기\n",
    "    else: # 같은 수 가 아닐경우 두 문제로 나눠서 큰값 가지기\n",
    "        ans = max(dp(i+1,j),dp(i,j-1))\n",
    "    mem[key] = ans # dp위해 저장\n",
    "    return ans \n",
    "\n",
    "dp(0,len(s)-1)"
   ]
  },
  {
   "cell_type": "code",
   "execution_count": null,
   "metadata": {},
   "outputs": [],
   "source": []
  }
 ],
 "metadata": {
  "kernelspec": {
   "display_name": "conda",
   "language": "python",
   "name": "base"
  },
  "language_info": {
   "codemirror_mode": {
    "name": "ipython",
    "version": 3
   },
   "file_extension": ".py",
   "mimetype": "text/x-python",
   "name": "python",
   "nbconvert_exporter": "python",
   "pygments_lexer": "ipython3",
   "version": "3.7.7"
  }
 },
 "nbformat": 4,
 "nbformat_minor": 2
}
