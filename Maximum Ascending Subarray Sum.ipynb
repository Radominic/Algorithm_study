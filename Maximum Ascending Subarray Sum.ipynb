{
 "cells": [
  {
   "cell_type": "code",
   "execution_count": 2,
   "metadata": {},
   "outputs": [],
   "source": [
    "#Maximum Ascending Subarray Sum\n",
    "\n",
    "'''\n",
    "Given an array of positive integers nums, return the maximum possible sum of an ascending subarray in nums.\n",
    "\n",
    "A subarray is defined as a contiguous sequence of numbers in an array.\n",
    "\n",
    "A subarray [numsl, numsl+1, ..., numsr-1, numsr] is ascending if for all i where l <= i < r, numsi < numsi+1. Note that a subarray of size 1 is ascending.\n",
    "'''\n",
    "\n",
    "class Solution:\n",
    "    def maxAscendingSum(self, nums) -> int:\n",
    "        tempSum = 0\n",
    "        maxSum = 0\n",
    "        for i,v in enumerate(nums):\n",
    "            if i!=0:\n",
    "                if v > nums[i-1]:\n",
    "                    tempSum += v\n",
    "                else: tempSum = v\n",
    "            else:tempSum = v\n",
    "                    \n",
    "            if tempSum > maxSum:\n",
    "                maxSum = tempSum\n",
    "        \n",
    "        return maxSum"
   ]
  },
  {
   "cell_type": "code",
   "execution_count": 4,
   "metadata": {},
   "outputs": [
    {
     "data": {
      "text/plain": [
       "33"
      ]
     },
     "execution_count": 4,
     "metadata": {},
     "output_type": "execute_result"
    }
   ],
   "source": [
    "answer = Solution()\n",
    "answer.maxAscendingSum([12,17,15,13,10,11,12])"
   ]
  }
 ],
 "metadata": {
  "kernelspec": {
   "display_name": "Python 3",
   "language": "python",
   "name": "python3"
  },
  "language_info": {
   "codemirror_mode": {
    "name": "ipython",
    "version": 3
   },
   "file_extension": ".py",
   "mimetype": "text/x-python",
   "name": "python",
   "nbconvert_exporter": "python",
   "pygments_lexer": "ipython3",
   "version": "3.6.10"
  }
 },
 "nbformat": 4,
 "nbformat_minor": 4
}
