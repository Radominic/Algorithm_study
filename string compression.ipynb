{
 "cells": [
  {
   "cell_type": "code",
   "execution_count": 27,
   "metadata": {},
   "outputs": [],
   "source": [
    "arr = 'aabccccaaa'"
   ]
  },
  {
   "cell_type": "code",
   "execution_count": 28,
   "metadata": {},
   "outputs": [],
   "source": [
    "result = ''\n",
    "temp = ''\n",
    "count = 0\n",
    "for i,v in enumerate(arr):\n",
    "    if i == 0:\n",
    "        temp = v\n",
    "        count = 1\n",
    "    elif temp !=v:\n",
    "        result+=temp\n",
    "        result+=str(count)\n",
    "        temp= v\n",
    "        count = 1\n",
    "    else:\n",
    "        count +=1\n",
    "    if i == len(arr)-1:\n",
    "        result+=temp\n",
    "        result+=str(count)\n",
    "        if len(result)>len(arr):\n",
    "            result = arr"
   ]
  },
  {
   "cell_type": "code",
   "execution_count": 29,
   "metadata": {},
   "outputs": [
    {
     "data": {
      "text/plain": [
       "'a2b1c4a3'"
      ]
     },
     "execution_count": 29,
     "metadata": {},
     "output_type": "execute_result"
    }
   ],
   "source": [
    "result"
   ]
  },
  {
   "cell_type": "code",
   "execution_count": null,
   "metadata": {},
   "outputs": [],
   "source": []
  }
 ],
 "metadata": {
  "kernelspec": {
   "display_name": "Python 3",
   "language": "python",
   "name": "python3"
  },
  "language_info": {
   "codemirror_mode": {
    "name": "ipython",
    "version": 3
   },
   "file_extension": ".py",
   "mimetype": "text/x-python",
   "name": "python",
   "nbconvert_exporter": "python",
   "pygments_lexer": "ipython3",
   "version": "3.6.10"
  }
 },
 "nbformat": 4,
 "nbformat_minor": 4
}
