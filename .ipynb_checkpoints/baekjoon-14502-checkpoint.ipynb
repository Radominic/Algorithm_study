{
 "cells": [
  {
   "cell_type": "code",
   "execution_count": 79,
   "metadata": {},
   "outputs": [
    {
     "name": "stdout",
     "output_type": "stream",
     "text": [
      "8 8\n",
      "2 0 0 0 0 0 0 2\n",
      "2 0 0 0 0 0 0 2\n",
      "2 0 0 0 0 0 0 2\n",
      "2 0 0 0 0 0 0 2\n",
      "2 0 0 0 0 0 0 2\n",
      "0 0 0 0 0 0 0 0\n",
      "0 0 0 0 0 0 0 0\n",
      "0 0 0 0 0 0 0 0\n",
      "3\n"
     ]
    }
   ],
   "source": [
    "n,t = map(int,input().split())\n",
    "# n = 세로, t = 가로\n",
    "m=[]\n",
    "for i in range(n):\n",
    "    m.append(list(map(int,input().split())))\n",
    "    \n",
    "#벽 3개를 임의로 세우기\n",
    "index =[]\n",
    "for i in range(n):\n",
    "    for j in range(t):\n",
    "        if m[i][j] == 0:\n",
    "            index.append([i,j])\n",
    "            \n",
    "import copy\n",
    "answer = 0\n",
    "def dfs(y,x,M):\n",
    "    if M[y][x] == 0:\n",
    "        M[y][x] = 2\n",
    "    if x<len(M[0])-1 and M[y][x+1] != 1 and M[y][x+1] != 2:\n",
    "        dfs(y,x+1,M)\n",
    "    if 0<x and M[y][x-1] != 1 and M[y][x-1] != 2:\n",
    "        dfs(y,x-1,M)\n",
    "    if y<len(M)-1 and M[y+1][x] != 1 and M[y+1][x] != 2:\n",
    "        dfs(y+1,x,M)\n",
    "    if 0<y and M[y-1][x] != 1 and M[y-1][x] != 2:\n",
    "        dfs(y-1,x,M)\n",
    "\n",
    "for i in range(len(index)):\n",
    "    for j in range(i+1,len(index)):\n",
    "        for k in range(j+1,len(index)):\n",
    "            M= copy.deepcopy(m)\n",
    "            M[index[i][0]][index[i][1]] = 1\n",
    "            M[index[j][0]][index[j][1]] = 1\n",
    "            M[index[k][0]][index[k][1]] = 1\n",
    "            \n",
    "            for o in range(n):\n",
    "                for p in range(t):\n",
    "                    if m[o][p] == 2:\n",
    "                        dfs(o,p,M)\n",
    "            count = 0\n",
    "            for u in range(n):\n",
    "                for s in range(t):\n",
    "                    if M[u][s]==0:\n",
    "                        count+=1\n",
    "\n",
    "            if answer < count:\n",
    "                answer = count\n",
    "print(answer)"
   ]
  }
 ],
 "metadata": {
  "kernelspec": {
   "display_name": "conda",
   "language": "python",
   "name": "base"
  },
  "language_info": {
   "codemirror_mode": {
    "name": "ipython",
    "version": 3
   },
   "file_extension": ".py",
   "mimetype": "text/x-python",
   "name": "python",
   "nbconvert_exporter": "python",
   "pygments_lexer": "ipython3",
   "version": "3.7.7"
  }
 },
 "nbformat": 4,
 "nbformat_minor": 4
}
