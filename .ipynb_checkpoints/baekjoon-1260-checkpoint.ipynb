{
 "cells": [
  {
   "cell_type": "code",
   "execution_count": null,
   "metadata": {},
   "outputs": [],
   "source": [
    "import sys\n",
    "\n",
    "N,M,V = list(map(int,sys.stdin.readline().split()))\n",
    "\n",
    "g=[]\n",
    "for i in M:\n",
    "    g.append(list(map(int,sys.stdin.readline().split())))"
   ]
  },
  {
   "cell_type": "code",
   "execution_count": null,
   "metadata": {},
   "outputs": [],
   "source": []
  },
  {
   "cell_type": "code",
   "execution_count": 54,
   "metadata": {},
   "outputs": [],
   "source": [
    "N = 4\n",
    "M = 5\n",
    "V = 1\n",
    "g = [[1,3],[1,2],[1,4],[2,4],[3,4]]"
   ]
  },
  {
   "cell_type": "code",
   "execution_count": 18,
   "metadata": {},
   "outputs": [],
   "source": [
    "N = 5\n",
    "M = 5\n",
    "V = 3\n",
    "g = [[5,4],[5,2],[1,2],[3,4],[3,1]]"
   ]
  },
  {
   "cell_type": "code",
   "execution_count": 76,
   "metadata": {},
   "outputs": [],
   "source": [
    "N = 10\n",
    "M = 10\n",
    "V = 4\n",
    "g = [[5,4],[6,4],[6,8],[8,9],[1,10],[2,10],[10,3],[8,2],[1,7],[4,10]]"
   ]
  },
  {
   "cell_type": "code",
   "execution_count": 77,
   "metadata": {},
   "outputs": [],
   "source": [
    "#stack dfs\n",
    "\n",
    "def dfs():\n",
    "    global stack\n",
    "    global answer\n",
    "    if len(stack)==0:\n",
    "        return\n",
    "    \n",
    "    start = stack[-1]\n",
    "    if visit[start] == 0:\n",
    "        answer.append(start)\n",
    "    visit[start] = 1\n",
    "    \n",
    "    \n",
    "    minimum = 99999\n",
    "    for i in g:\n",
    "        if i[0] == start and visit[i[1]] ==0:\n",
    "            if minimum > i[1]:\n",
    "                minimum = i[1]\n",
    "        elif i[1] ==start and visit[i[0]] ==0:\n",
    "            if minimum > i[0]:\n",
    "                minimum = i[0]\n",
    "    if minimum == 99999:\n",
    "        stack.pop()\n",
    "    else:\n",
    "        stack.append(minimum)\n",
    "    dfs()"
   ]
  },
  {
   "cell_type": "code",
   "execution_count": 78,
   "metadata": {},
   "outputs": [
    {
     "name": "stdout",
     "output_type": "stream",
     "text": [
      "4 5 6 8 2 10 1 7 3 9\n"
     ]
    }
   ],
   "source": [
    "visit = [0]\n",
    "for i in range(N):\n",
    "    visit.append(0)\n",
    "\n",
    "stack = [V]\n",
    "answer = []\n",
    "dfs()\n",
    "for i,v in enumerate(answer):\n",
    "    if i == len(answer)-1:\n",
    "        print(v)\n",
    "    else:\n",
    "        print(v,end=' ')"
   ]
  },
  {
   "cell_type": "code",
   "execution_count": 79,
   "metadata": {},
   "outputs": [],
   "source": [
    "#queue bfs\n",
    "\n",
    "def bfs():\n",
    "    global queue\n",
    "    global answer\n",
    "    start = queue[0]\n",
    "    queue = queue[1:]\n",
    "    if visit[start] == 0:\n",
    "        answer.append(start)\n",
    "    visit[start] = 1\n",
    "    \n",
    "    temp = []\n",
    "    for i in g:\n",
    "        if i[0] == start and visit[i[1]] ==0:\n",
    "            temp.append(i[1])\n",
    "        elif i[1] ==start and visit[i[0]] ==0:\n",
    "            temp.append(i[0])\n",
    "    temp = sorted(temp)\n",
    "    for i in temp:\n",
    "        queue.append(i)\n",
    "        visit[i] = 1\n",
    "        answer.append(i)\n",
    "            \n",
    "    if len(queue)==0:\n",
    "        return \n",
    "    else:\n",
    "        bfs()"
   ]
  },
  {
   "cell_type": "code",
   "execution_count": 80,
   "metadata": {},
   "outputs": [
    {
     "name": "stdout",
     "output_type": "stream",
     "text": [
      "4 5 6 10 8 1 2 3 9 7\n"
     ]
    }
   ],
   "source": [
    "visit = [0]\n",
    "for i in range(N):\n",
    "    visit.append(0)\n",
    "queue = [V]\n",
    "answer = []\n",
    "bfs()\n",
    "for i,v in enumerate(answer):\n",
    "    if i == len(answer)-1:\n",
    "        print(v)\n",
    "    else:\n",
    "        print(v,end=' ')"
   ]
  },
  {
   "cell_type": "code",
   "execution_count": null,
   "metadata": {},
   "outputs": [],
   "source": []
  }
 ],
 "metadata": {
  "kernelspec": {
   "display_name": "conda",
   "language": "python",
   "name": "base"
  },
  "language_info": {
   "codemirror_mode": {
    "name": "ipython",
    "version": 3
   },
   "file_extension": ".py",
   "mimetype": "text/x-python",
   "name": "python",
   "nbconvert_exporter": "python",
   "pygments_lexer": "ipython3",
   "version": "3.7.7"
  }
 },
 "nbformat": 4,
 "nbformat_minor": 2
}
