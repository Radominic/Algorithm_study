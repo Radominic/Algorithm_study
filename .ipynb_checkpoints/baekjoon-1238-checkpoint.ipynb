{
 "cells": [
  {
   "cell_type": "code",
   "execution_count": null,
   "metadata": {},
   "outputs": [],
   "source": [
    "import sys\n",
    "input = sys.stdin.readline"
   ]
  },
  {
   "cell_type": "code",
   "execution_count": 174,
   "metadata": {},
   "outputs": [
    {
     "name": "stdout",
     "output_type": "stream",
     "text": [
      "4 8 2\n",
      "1 2 4\n",
      "1 3 2\n",
      "1 4 7\n",
      "2 1 1 \n",
      "2 3 5\n",
      "3 1 2\n",
      "3 4 4\n",
      "4 2 3\n"
     ]
    }
   ],
   "source": [
    "n, m, x = list(map(int,input().split()))\n",
    "g = [[] for _ in range(n+1)]\n",
    "for i in range(m):\n",
    "    s,e,t = list(map(int,input().split()))\n",
    "    g[s].append([e,t])"
   ]
  },
  {
   "cell_type": "code",
   "execution_count": 194,
   "metadata": {},
   "outputs": [
    {
     "name": "stdout",
     "output_type": "stream",
     "text": [
      "10\n"
     ]
    }
   ],
   "source": [
    "import heapq\n",
    "weight=[float('INF') for _ in range(n+1)]\n",
    "q=[]\n",
    "\n",
    "def dijkstra(start):\n",
    "    heapq.heappush(q,[0,start])\n",
    "    weight[start] = 0\n",
    "    while q:\n",
    "        wei, node = heapq.heappop(q)\n",
    "        for e,t in g[node]:\n",
    "            next_wei = wei+t\n",
    "            if weight[e] > next_wei:\n",
    "                weight[e] = next_wei\n",
    "                heapq.heappush(q,[next_wei,e])\n",
    "                \n",
    "answer=[0 for _ in range(n+1)]\n",
    "\n",
    "for i in range(1,n+1):\n",
    "    weight=[float('INF') for _ in range(n+1)]\n",
    "    dijkstra(i)\n",
    "    answer[i] = weight[x]\n",
    "    \n",
    "\n",
    "weight=[float('INF') for _ in range(n+1)]\n",
    "dijkstra(x)\n",
    "for i in range(1,n+1):\n",
    "    answer[i]+=weight[i]\n",
    "print(max(answer))"
   ]
  },
  {
   "cell_type": "code",
   "execution_count": null,
   "metadata": {},
   "outputs": [],
   "source": []
  }
 ],
 "metadata": {
  "kernelspec": {
   "display_name": "conda",
   "language": "python",
   "name": "base"
  },
  "language_info": {
   "codemirror_mode": {
    "name": "ipython",
    "version": 3
   },
   "file_extension": ".py",
   "mimetype": "text/x-python",
   "name": "python",
   "nbconvert_exporter": "python",
   "pygments_lexer": "ipython3",
   "version": "3.7.7"
  }
 },
 "nbformat": 4,
 "nbformat_minor": 4
}
