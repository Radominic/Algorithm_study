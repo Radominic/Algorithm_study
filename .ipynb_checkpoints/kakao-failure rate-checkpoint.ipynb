{
 "cells": [
  {
   "cell_type": "code",
   "execution_count": 72,
   "metadata": {},
   "outputs": [],
   "source": [
    "N=5\n",
    "stages=[2, 1, 2, 6, 2, 4, 3, 3]"
   ]
  },
  {
   "cell_type": "code",
   "execution_count": 90,
   "metadata": {},
   "outputs": [],
   "source": [
    "N=4\n",
    "stages = [4,4,4,4,4]"
   ]
  },
  {
   "cell_type": "code",
   "execution_count": 95,
   "metadata": {},
   "outputs": [],
   "source": [
    "import operator\n",
    "def solution(N, stages):\n",
    "    answer = []\n",
    "    answers={}\n",
    "    for i in range(1,N+1):\n",
    "        s=0 # start\n",
    "        f=0 # finish\n",
    "        for j in stages:\n",
    "            if j>i:\n",
    "                f+=1\n",
    "            elif j==i:\n",
    "                s+=1\n",
    "        if s+f ==0:\n",
    "            answers[i]=0\n",
    "        else:\n",
    "            answers[i] = s/(s+f)\n",
    "    answers = sorted(answers.items(),key=operator.itemgetter(1),reverse=True)\n",
    "    #print(answers)\n",
    "    for i in answers:\n",
    "        answer.append(i[0])\n",
    "    return answer"
   ]
  },
  {
   "cell_type": "code",
   "execution_count": 96,
   "metadata": {},
   "outputs": [
    {
     "data": {
      "text/plain": [
       "[4, 1, 2, 3]"
      ]
     },
     "execution_count": 96,
     "metadata": {},
     "output_type": "execute_result"
    }
   ],
   "source": [
    "solution(N,stages)"
   ]
  },
  {
   "cell_type": "code",
   "execution_count": null,
   "metadata": {},
   "outputs": [],
   "source": []
  }
 ],
 "metadata": {
  "kernelspec": {
   "display_name": "Python 3",
   "language": "python",
   "name": "python3"
  },
  "language_info": {
   "codemirror_mode": {
    "name": "ipython",
    "version": 3
   },
   "file_extension": ".py",
   "mimetype": "text/x-python",
   "name": "python",
   "nbconvert_exporter": "python",
   "pygments_lexer": "ipython3",
   "version": "3.6.10"
  }
 },
 "nbformat": 4,
 "nbformat_minor": 4
}
