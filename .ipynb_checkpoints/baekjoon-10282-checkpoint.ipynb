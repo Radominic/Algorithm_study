{
 "cells": [
  {
   "cell_type": "code",
   "execution_count": 11,
   "metadata": {},
   "outputs": [],
   "source": [
    "import sys\n",
    "#input = sys.stdin.readline\n",
    "INF = float('INF')"
   ]
  },
  {
   "cell_type": "code",
   "execution_count": 19,
   "metadata": {},
   "outputs": [
    {
     "name": "stdout",
     "output_type": "stream",
     "text": [
      "2\n",
      "3 2 2\n",
      "2 1 5\n",
      "3 2 5\n",
      "2 5\n",
      "3 3 1\n",
      "2 1 2\n",
      "3 1 8\n",
      "3 2 4\n",
      "3 6\n"
     ]
    }
   ],
   "source": [
    "# 다익스트라로 갱신된 거리 수와 최대 시간 구하기\n",
    "\n",
    "import heapq\n",
    "\n",
    "def dijkstra(start,q,graph,weight):\n",
    "    heapq.heappush(q,[0,start])\n",
    "    weight[start] = 0\n",
    "    \n",
    "    while q:\n",
    "        w,v = heapq.heappop(q)\n",
    "        \n",
    "        if weight[v] < w: #현재 w가 기록보다 크면 pass\n",
    "            continue\n",
    "        for a,s in graph[v]: # a 는 target, s 는 가중치\n",
    "            n_w = w+s\n",
    "            if n_w < weight[a]:\n",
    "                weight[a] = n_w\n",
    "                heapq.heappush(q,[n_w,a])\n",
    "    return weight        \n",
    "\n",
    "t=int(input())\n",
    "for i in range(t):\n",
    "    \n",
    "    n,d,c = list(map(int,input().split()))\n",
    "    graph=[[]for _ in range(n+1)]\n",
    "    for j in range(d):\n",
    "        a,b,s = list(map(int,input().split()))\n",
    "        graph[b].append([a,s]) # 목적지 a 가중치 s\n",
    "    q = []\n",
    "    weight=[INF for i in range(n+1)]\n",
    "    \n",
    "    weight = dijkstra(c,q,graph,weight)\n",
    "    count=0\n",
    "    max=0\n",
    "    for i in weight:\n",
    "        if i != float('INF'):\n",
    "            count+=1\n",
    "            if i > max:\n",
    "                max = i\n",
    "    print(count,max)"
   ]
  },
  {
   "cell_type": "code",
   "execution_count": null,
   "metadata": {},
   "outputs": [],
   "source": []
  }
 ],
 "metadata": {
  "kernelspec": {
   "display_name": "conda",
   "language": "python",
   "name": "base"
  },
  "language_info": {
   "codemirror_mode": {
    "name": "ipython",
    "version": 3
   },
   "file_extension": ".py",
   "mimetype": "text/x-python",
   "name": "python",
   "nbconvert_exporter": "python",
   "pygments_lexer": "ipython3",
   "version": "3.7.7"
  }
 },
 "nbformat": 4,
 "nbformat_minor": 4
}
