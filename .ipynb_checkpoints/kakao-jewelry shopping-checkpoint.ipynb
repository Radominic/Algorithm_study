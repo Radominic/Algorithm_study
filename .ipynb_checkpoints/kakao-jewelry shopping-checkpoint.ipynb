{
 "cells": [
  {
   "cell_type": "code",
   "execution_count": 62,
   "metadata": {},
   "outputs": [],
   "source": [
    "def solution(gems):\n",
    "    \n",
    "    answer = []\n",
    "    candidate=[]\n",
    "    \n",
    "    minimum=len(gems)\n",
    "    min_i = 0\n",
    "    \n",
    "    check={}\n",
    "    #index list 초기화\n",
    "    for i in set(gems):\n",
    "        check[i] = -1\n",
    "    #모든 보석 찾았는지 확인용\n",
    "    t = len(check)\n",
    "    \n",
    "    for i,v in enumerate(gems):\n",
    "\n",
    "        print(check)\n",
    "        #print(check)\n",
    "        if check[v] == -1: #보석 unique 갱신\n",
    "            t-=1\n",
    "            \n",
    "        #index 갱신\n",
    "        if check[v] == min_i:\n",
    "            check[v] = i\n",
    "            min_i = min(check.values())\n",
    "        else:\n",
    "            check[v] = i\n",
    "        \n",
    "        if t==0: # 보석 다찾았을 경우\n",
    "            if i-min_i < minimum:\n",
    "                answer = [min_i,i]\n",
    "                minimum = i-min_i\n",
    "        \n",
    "    #print(check)\n",
    "    answer[0]+=1\n",
    "    answer[1]+=1\n",
    "    \n",
    "    return answer\n"
   ]
  },
  {
   "cell_type": "code",
   "execution_count": 63,
   "metadata": {},
   "outputs": [],
   "source": [
    "gems=\t[\"DIA\", \"RUBY\", \"RUBY\", \"DIA\", \"DIA\", \"EMERALD\", \"SAPPHIRE\", \"DIA\"]"
   ]
  },
  {
   "cell_type": "code",
   "execution_count": 65,
   "metadata": {},
   "outputs": [
    {
     "name": "stdout",
     "output_type": "stream",
     "text": [
      "{'EMERALD': -1, 'SAPPHIRE': -1, 'RUBY': -1, 'DIA': -1}\n",
      "{'EMERALD': -1, 'SAPPHIRE': -1, 'RUBY': -1, 'DIA': 0}\n",
      "{'EMERALD': -1, 'SAPPHIRE': -1, 'RUBY': 1, 'DIA': 0}\n",
      "{'EMERALD': -1, 'SAPPHIRE': -1, 'RUBY': 2, 'DIA': 0}\n",
      "{'EMERALD': -1, 'SAPPHIRE': -1, 'RUBY': 2, 'DIA': 3}\n",
      "{'EMERALD': -1, 'SAPPHIRE': -1, 'RUBY': 2, 'DIA': 4}\n",
      "{'EMERALD': 5, 'SAPPHIRE': -1, 'RUBY': 2, 'DIA': 4}\n",
      "{'EMERALD': 5, 'SAPPHIRE': 6, 'RUBY': 2, 'DIA': 4}\n"
     ]
    },
    {
     "data": {
      "text/plain": [
       "[3, 7]"
      ]
     },
     "execution_count": 65,
     "metadata": {},
     "output_type": "execute_result"
    }
   ],
   "source": [
    "# 인덱스를 모두 유지하는 방식\n",
    "solution(gems)"
   ]
  },
  {
   "cell_type": "code",
   "execution_count": null,
   "metadata": {
    "collapsed": true
   },
   "outputs": [],
   "source": []
  },
  {
   "cell_type": "code",
   "execution_count": 96,
   "metadata": {},
   "outputs": [],
   "source": [
    "def solution(gems):\n",
    "    answer = []\n",
    "    import heapq\n",
    "    \n",
    "    check={}\n",
    "    check_heap=[]\n",
    "    \n",
    "    n = 0 # 보석 수\n",
    "    start = 0\n",
    "    for v in set(gems):\n",
    "        check[v] = 0\n",
    "        n+=1\n",
    "    for i,v in enumerate(gems):\n",
    "        #print(check)\n",
    "        #print(check_heap)\n",
    "        if check[v] == 0:\n",
    "            n-=1\n",
    "            \n",
    "        check[v]+=1\n",
    "        \n",
    "        while check[gems[start]] > 1:\n",
    "            check[gems[start]]-=1\n",
    "            start +=1\n",
    "        \n",
    "        if n == 0:\n",
    "            heapq.heappush(check_heap,[i-start,start,i])\n",
    "        \n",
    "    answer = [check_heap[0][1]+1,check_heap[0][2]+1]\n",
    "    return answer"
   ]
  },
  {
   "cell_type": "code",
   "execution_count": 97,
   "metadata": {},
   "outputs": [],
   "source": [
    "gems=\t[\"DIA\", \"RUBY\", \"RUBY\", \"DIA\", \"DIA\", \"EMERALD\", \"SAPPHIRE\", \"DIA\"]"
   ]
  },
  {
   "cell_type": "code",
   "execution_count": 98,
   "metadata": {},
   "outputs": [
    {
     "name": "stdout",
     "output_type": "stream",
     "text": [
      "{'EMERALD': 0, 'SAPPHIRE': 0, 'RUBY': 0, 'DIA': 0}\n",
      "[]\n",
      "{'EMERALD': 0, 'SAPPHIRE': 0, 'RUBY': 0, 'DIA': 1}\n",
      "[]\n",
      "{'EMERALD': 0, 'SAPPHIRE': 0, 'RUBY': 1, 'DIA': 1}\n",
      "[]\n",
      "{'EMERALD': 0, 'SAPPHIRE': 0, 'RUBY': 2, 'DIA': 1}\n",
      "[]\n",
      "{'EMERALD': 0, 'SAPPHIRE': 0, 'RUBY': 1, 'DIA': 1}\n",
      "[]\n",
      "{'EMERALD': 0, 'SAPPHIRE': 0, 'RUBY': 1, 'DIA': 2}\n",
      "[]\n",
      "{'EMERALD': 1, 'SAPPHIRE': 0, 'RUBY': 1, 'DIA': 2}\n",
      "[]\n",
      "{'EMERALD': 1, 'SAPPHIRE': 1, 'RUBY': 1, 'DIA': 2}\n",
      "[[4, 2, 6]]\n"
     ]
    },
    {
     "data": {
      "text/plain": [
       "[3, 7]"
      ]
     },
     "execution_count": 98,
     "metadata": {},
     "output_type": "execute_result"
    }
   ],
   "source": [
    "#집합 안에 들어있는 보석 수를 유지\n",
    "solution(gems)"
   ]
  },
  {
   "cell_type": "code",
   "execution_count": null,
   "metadata": {},
   "outputs": [],
   "source": []
  }
 ],
 "metadata": {
  "kernelspec": {
   "display_name": "Python 3",
   "language": "python",
   "name": "python3"
  },
  "language_info": {
   "codemirror_mode": {
    "name": "ipython",
    "version": 3
   },
   "file_extension": ".py",
   "mimetype": "text/x-python",
   "name": "python",
   "nbconvert_exporter": "python",
   "pygments_lexer": "ipython3",
   "version": "3.6.10"
  }
 },
 "nbformat": 4,
 "nbformat_minor": 4
}
