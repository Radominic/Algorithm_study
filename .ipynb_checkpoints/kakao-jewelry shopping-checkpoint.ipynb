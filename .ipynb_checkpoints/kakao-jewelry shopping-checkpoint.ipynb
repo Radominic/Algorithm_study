{
 "cells": [
  {
   "cell_type": "code",
   "execution_count": 305,
   "metadata": {},
   "outputs": [],
   "source": [
    "def solution(gems):\n",
    "    answer = []\n",
    "    candidate=[]\n",
    "    \n",
    "    minimum=len(gems)\n",
    "    min_i = 0\n",
    "    \n",
    "    check={}\n",
    "    \n",
    "    #index list 초기화\n",
    "    for i in set(gems):\n",
    "        check[i] = -1\n",
    "    \n",
    "    #모든 보석 찾았는지 확인용\n",
    "    t = len(check)\n",
    "    \n",
    "    for i,v in enumerate(gems):\n",
    "        #print(check)\n",
    "        if check[v] == -1: #보석 unique 갱신\n",
    "            t-=1\n",
    "        \n",
    "        #index 갱신\n",
    "        if check[v] == min_i:\n",
    "            check[v] = i\n",
    "            min_i = min(check.values())\n",
    "        else:\n",
    "            check[v] = i\n",
    "        \n",
    "        if t==0: # 보석 다찾았을 경우\n",
    "            if i-min_i < minimum:\n",
    "                answer = [min_i,i]\n",
    "                minimum = i-min_i\n",
    "        \n",
    "    #print(check)\n",
    "    answer[0]+=1\n",
    "    answer[1]+=1\n",
    "    \n",
    "    return answer\n"
   ]
  },
  {
   "cell_type": "code",
   "execution_count": 309,
   "metadata": {},
   "outputs": [],
   "source": [
    "gems=\t[\"DIA\", \"RUBY\", \"RUBY\", \"DIA\", \"DIA\", \"EMERALD\", \"SAPPHIRE\", \"DIA\"]"
   ]
  },
  {
   "cell_type": "code",
   "execution_count": 310,
   "metadata": {},
   "outputs": [
    {
     "data": {
      "text/plain": [
       "[3, 7]"
      ]
     },
     "execution_count": 310,
     "metadata": {},
     "output_type": "execute_result"
    }
   ],
   "source": [
    "solution(gems)"
   ]
  },
  {
   "cell_type": "code",
   "execution_count": 308,
   "metadata": {},
   "outputs": [],
   "source": [
    "def solution(gems):\n",
    "    answer = []\n",
    "    candidate=[]\n",
    "    \n",
    "    minimum=len(gems)\n",
    "    min_i = 0\n",
    "    \n",
    "    check={}\n",
    "    \n",
    "    #index list 초기화\n",
    "    for i in set(gems):\n",
    "        check[i] = -1\n",
    "    \n",
    "    #모든 보석 찾았는지 확인용\n",
    "    t = len(check)\n",
    "    \n",
    "    for i,v in enumerate(gems):\n",
    "        #print(check)\n",
    "        if check[v] == -1: #보석 unique 갱신\n",
    "            t-=1\n",
    "        \n",
    "        #index 갱신\n",
    "        if check[v] == min_i:\n",
    "            check[v] = i\n",
    "            min_i = min(check.values())\n",
    "        else:\n",
    "            check[v] = i\n",
    "        \n",
    "        if t==0: # 보석 다찾았을 경우\n",
    "            if i-min_i < minimum:\n",
    "                answer = [min_i,i]\n",
    "                minimum = i-min_i\n",
    "        \n",
    "    #print(check)\n",
    "    answer[0]+=1\n",
    "    answer[1]+=1\n",
    "    \n",
    "    return answer\n"
   ]
  },
  {
   "cell_type": "code",
   "execution_count": null,
   "metadata": {},
   "outputs": [],
   "source": []
  },
  {
   "cell_type": "code",
   "execution_count": null,
   "metadata": {},
   "outputs": [],
   "source": []
  }
 ],
 "metadata": {
  "kernelspec": {
   "display_name": "Python 3",
   "language": "python",
   "name": "python3"
  },
  "language_info": {
   "codemirror_mode": {
    "name": "ipython",
    "version": 3
   },
   "file_extension": ".py",
   "mimetype": "text/x-python",
   "name": "python",
   "nbconvert_exporter": "python",
   "pygments_lexer": "ipython3",
   "version": "3.6.10"
  }
 },
 "nbformat": 4,
 "nbformat_minor": 4
}
