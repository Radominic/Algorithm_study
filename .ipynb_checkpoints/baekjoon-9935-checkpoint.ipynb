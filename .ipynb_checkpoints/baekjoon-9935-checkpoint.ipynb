{
 "cells": [
  {
   "cell_type": "code",
   "execution_count": 91,
   "metadata": {},
   "outputs": [],
   "source": [
    "s = 'mirkovC4nizCC44'\n",
    "c = 'C4'"
   ]
  },
  {
   "cell_type": "code",
   "execution_count": 93,
   "metadata": {},
   "outputs": [],
   "source": [
    "s = '12ab112ab2ab'\n",
    "c = '12ab'"
   ]
  },
  {
   "cell_type": "code",
   "execution_count": 80,
   "metadata": {},
   "outputs": [],
   "source": [
    "import sys\n",
    "s = sys.stdin.readline().strip()\n",
    "c = sys.stdin.readline().strip()"
   ]
  },
  {
   "cell_type": "code",
   "execution_count": 46,
   "metadata": {},
   "outputs": [
    {
     "name": "stdout",
     "output_type": "stream",
     "text": [
      "FRULA\n"
     ]
    }
   ],
   "source": [
    "while s:\n",
    "    temp = s.replace(c,'')\n",
    "    if s != temp:\n",
    "        s = temp\n",
    "    else:\n",
    "        break\n",
    "if s:\n",
    "    print(s)\n",
    "else:\n",
    "    print('FRULA')"
   ]
  },
  {
   "cell_type": "code",
   "execution_count": null,
   "metadata": {},
   "outputs": [],
   "source": []
  },
  {
   "cell_type": "code",
   "execution_count": 94,
   "metadata": {},
   "outputs": [
    {
     "name": "stdout",
     "output_type": "stream",
     "text": [
      "FRULA\n"
     ]
    }
   ],
   "source": [
    "#stack\n",
    "\n",
    "stack = []\n",
    "c_Arr=[]\n",
    "for i in c:\n",
    "    c_Arr.append(i)\n",
    "for i in s:\n",
    "    stack.append(i)\n",
    "    if stack[-len(c):] == c_Arr: #slicing 시간 복잡도 arr[a:b] = O(b-a)\n",
    "        for j in range(len(c)):\n",
    "            stack.pop()\n",
    "result =''\n",
    "for i in stack:\n",
    "    result+=i\n",
    "if result:\n",
    "    print(result)\n",
    "else:\n",
    "    print('FRULA')"
   ]
  },
  {
   "cell_type": "code",
   "execution_count": null,
   "metadata": {},
   "outputs": [],
   "source": []
  }
 ],
 "metadata": {
  "kernelspec": {
   "display_name": "Python 3",
   "language": "python",
   "name": "python3"
  },
  "language_info": {
   "codemirror_mode": {
    "name": "ipython",
    "version": 3
   },
   "file_extension": ".py",
   "mimetype": "text/x-python",
   "name": "python",
   "nbconvert_exporter": "python",
   "pygments_lexer": "ipython3",
   "version": "3.6.10"
  }
 },
 "nbformat": 4,
 "nbformat_minor": 4
}
