{
 "cells": [
  {
   "cell_type": "code",
   "execution_count": 51,
   "metadata": {},
   "outputs": [],
   "source": [
    "def solution(priorities, location):\n",
    "    answer = 0\n",
    "    while priorities:\n",
    "        if priorities[0] == max(priorities):#우선순위 제일 높을경우\n",
    "            answer +=1 #print count\n",
    "            priorities = priorities[1:]\n",
    "            #인덱스 유지\n",
    "            if location==0: #인덱스 0에서 탈출할 경우 끝내기\n",
    "                break\n",
    "            else:\n",
    "                location-=1\n",
    "        else:#우선순위 낮을경우\n",
    "            priorities = priorities[1:]+priorities[:1]\n",
    "            #인덱스 유지\n",
    "            if location==0:\n",
    "                location = len(priorities)-1\n",
    "            else:\n",
    "                location-=1\n",
    "    \n",
    "    return answer"
   ]
  },
  {
   "cell_type": "code",
   "execution_count": 52,
   "metadata": {},
   "outputs": [],
   "source": [
    "priorities = [2,1,3,2]\n",
    "location = 2"
   ]
  },
  {
   "cell_type": "code",
   "execution_count": 53,
   "metadata": {},
   "outputs": [],
   "source": [
    "priorities = [1,1,9,1,1,1]\n",
    "location = 0"
   ]
  },
  {
   "cell_type": "code",
   "execution_count": 54,
   "metadata": {},
   "outputs": [
    {
     "data": {
      "text/plain": [
       "5"
      ]
     },
     "execution_count": 54,
     "metadata": {},
     "output_type": "execute_result"
    }
   ],
   "source": [
    "solution(priorities,location)"
   ]
  },
  {
   "cell_type": "code",
   "execution_count": null,
   "metadata": {},
   "outputs": [],
   "source": []
  }
 ],
 "metadata": {
  "kernelspec": {
   "display_name": "Python 3",
   "language": "python",
   "name": "python3"
  },
  "language_info": {
   "codemirror_mode": {
    "name": "ipython",
    "version": 3
   },
   "file_extension": ".py",
   "mimetype": "text/x-python",
   "name": "python",
   "nbconvert_exporter": "python",
   "pygments_lexer": "ipython3",
   "version": "3.6.10"
  }
 },
 "nbformat": 4,
 "nbformat_minor": 4
}
