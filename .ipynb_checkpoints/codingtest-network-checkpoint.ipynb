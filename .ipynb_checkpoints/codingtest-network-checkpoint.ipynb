{
 "cells": [
  {
   "cell_type": "code",
   "execution_count": 105,
   "metadata": {},
   "outputs": [],
   "source": [
    "def solution(n, computers):\n",
    "    \n",
    "    def dfs(start):\n",
    "        visit.append(start)\n",
    "        \n",
    "        for i in range(n):\n",
    "            if i not in visit and computers[start][i] ==1:\n",
    "                dfs(i)\n",
    "        return 0\n",
    "    \n",
    "    \n",
    "    visit = []\n",
    "    answer=[]\n",
    "    for i in range(n):\n",
    "        for j in range(n):\n",
    "            if computers[i][j] == 1 and i not in visit:\n",
    "                answer.append(dfs(i))\n",
    "    return len(answer)"
   ]
  },
  {
   "cell_type": "code",
   "execution_count": 106,
   "metadata": {},
   "outputs": [
    {
     "data": {
      "text/plain": [
       "2"
      ]
     },
     "execution_count": 106,
     "metadata": {},
     "output_type": "execute_result"
    }
   ],
   "source": [
    "solution(3,[[1, 1, 0], [1, 1, 0], [0, 0, 1]])"
   ]
  },
  {
   "cell_type": "code",
   "execution_count": null,
   "metadata": {},
   "outputs": [],
   "source": []
  },
  {
   "cell_type": "code",
   "execution_count": null,
   "metadata": {},
   "outputs": [],
   "source": []
  }
 ],
 "metadata": {
  "kernelspec": {
   "display_name": "conda",
   "language": "python",
   "name": "base"
  },
  "language_info": {
   "codemirror_mode": {
    "name": "ipython",
    "version": 3
   },
   "file_extension": ".py",
   "mimetype": "text/x-python",
   "name": "python",
   "nbconvert_exporter": "python",
   "pygments_lexer": "ipython3",
   "version": "3.7.7"
  }
 },
 "nbformat": 4,
 "nbformat_minor": 2
}
