{
 "cells": [
  {
   "cell_type": "code",
   "execution_count": 18,
   "metadata": {},
   "outputs": [],
   "source": [
    "id_list = [\"con\", \"ryan\"]\n",
    "report = [\"ryan con\", \"ryan con\", \"ryan con\", \"ryan con\"]\n",
    "k = 3"
   ]
  },
  {
   "cell_type": "code",
   "execution_count": 19,
   "metadata": {},
   "outputs": [],
   "source": [
    "def solution(id_list, report, k):\n",
    "    answer = []\n",
    "    \n",
    "    report = set(report)\n",
    "    \n",
    "    n_report = {}\n",
    "    for name in id_list:\n",
    "        n_report[name] = 0\n",
    "    \n",
    "    for i in report:\n",
    "        a,b = i.split(\" \")\n",
    "        n_report[b] += 1\n",
    "    \n",
    "    r_list=[]\n",
    "    for name in id_list:\n",
    "        if n_report[name] >= k:\n",
    "            r_list.append(name)\n",
    "    \n",
    "    answer_set={}\n",
    "    for name in id_list:\n",
    "        answer_set[name] = 0\n",
    "    \n",
    "    for i in report:\n",
    "        a,b = i.split(\" \")\n",
    "        if b in r_list:\n",
    "            answer_set[a] +=1\n",
    "    \n",
    "    for name in id_list:\n",
    "        answer.append(answer_set[name])\n",
    "    \n",
    "    return answer"
   ]
  },
  {
   "cell_type": "code",
   "execution_count": 20,
   "metadata": {},
   "outputs": [
    {
     "data": {
      "text/plain": [
       "[0, 0]"
      ]
     },
     "execution_count": 20,
     "metadata": {},
     "output_type": "execute_result"
    }
   ],
   "source": [
    "solution(id_list,report,k)"
   ]
  },
  {
   "cell_type": "code",
   "execution_count": null,
   "metadata": {},
   "outputs": [],
   "source": []
  }
 ],
 "metadata": {
  "kernelspec": {
   "display_name": "conda",
   "language": "python",
   "name": "base"
  },
  "language_info": {
   "codemirror_mode": {
    "name": "ipython",
    "version": 3
   },
   "file_extension": ".py",
   "mimetype": "text/x-python",
   "name": "python",
   "nbconvert_exporter": "python",
   "pygments_lexer": "ipython3",
   "version": "3.7.7"
  }
 },
 "nbformat": 4,
 "nbformat_minor": 4
}
