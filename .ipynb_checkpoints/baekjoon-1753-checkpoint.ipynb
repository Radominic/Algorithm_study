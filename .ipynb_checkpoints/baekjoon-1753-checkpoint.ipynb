{
 "cells": [
  {
   "cell_type": "code",
   "execution_count": null,
   "metadata": {},
   "outputs": [],
   "source": [
    "import sys\n",
    "input = sys.stdin.readline\n",
    "v,e = list(map(int,input().split()))\n",
    "k = int(input())\n",
    "g = {}\n",
    "for i in range(v+1):\n",
    "    g[i] = []\n",
    "for i in range(e):\n",
    "    a,b,c = list(map(int,input().split()))\n",
    "    g[a].append([b,c])\n",
    "import heapq\n",
    "\n",
    "heap = [] #최소 가중치 노드 뽑아내기\n",
    "weight = [float('inf') for _ in range(v+1)]\n",
    "\n",
    "def dijkstra():\n",
    "    \n",
    "    while heap:\n",
    "        s_w,start = heapq.heappop(heap)\n",
    "        \n",
    "        if weight[start]<s_w:\n",
    "            continue\n",
    "        \n",
    "        for i in g[start]:\n",
    "            t,w = i\n",
    "            # 이전경로 + weight가 기록 보다 작을경우 갱신\n",
    "            if  weight[t] > w+s_w:\n",
    "                weight[t] = w+s_w\n",
    "                heapq.heappush(heap,[w+s_w,t])\n",
    "\n",
    "heapq.heappush(heap,[0,k])\n",
    "weight[k]=0\n",
    "dijkstra()\n",
    "\n",
    "for i in range(1,v+1):\n",
    "    if weight[i] == float('inf'):\n",
    "        print('INF')\n",
    "    else:\n",
    "        print(weight[i])"
   ]
  }
 ],
 "metadata": {
  "kernelspec": {
   "display_name": "conda",
   "language": "python",
   "name": "base"
  },
  "language_info": {
   "codemirror_mode": {
    "name": "ipython",
    "version": 3
   },
   "file_extension": ".py",
   "mimetype": "text/x-python",
   "name": "python",
   "nbconvert_exporter": "python",
   "pygments_lexer": "ipython3",
   "version": "3.7.7"
  }
 },
 "nbformat": 4,
 "nbformat_minor": 4
}
