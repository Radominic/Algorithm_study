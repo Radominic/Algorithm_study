{
 "cells": [
  {
   "cell_type": "code",
   "execution_count": 39,
   "metadata": {},
   "outputs": [],
   "source": [
    "N= 10\n",
    "nums = [10,-4,3,1,5,6,-35,12,21,-1]"
   ]
  },
  {
   "cell_type": "code",
   "execution_count": 46,
   "metadata": {},
   "outputs": [],
   "source": [
    "N = 10\n",
    "nums = [2,1,-4,3,4,-4,6,5,-5,1]"
   ]
  },
  {
   "cell_type": "code",
   "execution_count": 48,
   "metadata": {},
   "outputs": [],
   "source": [
    "N = 5\n",
    "nums = [-1, -2, -3, -4, -5]"
   ]
  },
  {
   "cell_type": "code",
   "execution_count": 49,
   "metadata": {},
   "outputs": [
    {
     "name": "stdout",
     "output_type": "stream",
     "text": [
      "[-inf, -1, -2, -3, -4, -5]\n",
      "-1\n"
     ]
    }
   ],
   "source": [
    "dp = [-float('inf') for _ in range(len(nums)+1)]\n",
    "for i in range(len(nums)):\n",
    "    # 현재까지의 최대 합 비교\n",
    "    dp[i+1] = max(nums[i],nums[i]+dp[i])\n",
    "print(dp)\n",
    "print(max(dp[1:]))"
   ]
  },
  {
   "cell_type": "code",
   "execution_count": null,
   "metadata": {},
   "outputs": [],
   "source": []
  },
  {
   "cell_type": "code",
   "execution_count": null,
   "metadata": {},
   "outputs": [],
   "source": []
  }
 ],
 "metadata": {
  "kernelspec": {
   "display_name": "fw",
   "language": "python",
   "name": "python3"
  },
  "language_info": {
   "codemirror_mode": {
    "name": "ipython",
    "version": 3
   },
   "file_extension": ".py",
   "mimetype": "text/x-python",
   "name": "python",
   "nbconvert_exporter": "python",
   "pygments_lexer": "ipython3",
   "version": "3.8.16"
  },
  "orig_nbformat": 4
 },
 "nbformat": 4,
 "nbformat_minor": 2
}
