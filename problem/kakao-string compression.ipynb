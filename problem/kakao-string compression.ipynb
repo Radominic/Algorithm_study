{
 "cells": [
  {
   "cell_type": "code",
   "execution_count": 101,
   "metadata": {},
   "outputs": [],
   "source": [
    "s = \"xababcdcdababcdcd\""
   ]
  },
  {
   "cell_type": "code",
   "execution_count": 102,
   "metadata": {},
   "outputs": [],
   "source": [
    "def compression(s):\n",
    "    answer = len(s)\n",
    "    for j in range(1,int(len(s)/2)+1): # j는 단위\n",
    "        temp = \"\"\n",
    "        tempS= s\n",
    "        while len(tempS) >0:\n",
    "            count=1\n",
    "            #print(tempS)\n",
    "            for k in range(j,len(tempS),j): # 단위 다음부터 단위만큼이동\n",
    "                if tempS[:j] != tempS[k:j+k]:\n",
    "                    break\n",
    "                else:\n",
    "                    count+=1\n",
    "            if count !=1:\n",
    "                temp += str(count)+tempS[:j]\n",
    "                tempS = tempS[j*count:]\n",
    "            else:\n",
    "                temp += tempS[0]\n",
    "                tempS = tempS[1:]\n",
    "        if len(temp) <answer:\n",
    "            answer = len(temp)\n",
    "        print(temp)\n",
    "    return(answer)"
   ]
  },
  {
   "cell_type": "code",
   "execution_count": 103,
   "metadata": {},
   "outputs": [
    {
     "name": "stdout",
     "output_type": "stream",
     "text": [
      "xababcdcdababcdcd\n",
      "x2ab2cd2ab2cd\n",
      "xababcdcdababcdcd\n",
      "xababcdcdababcdcd\n",
      "xababcdcdababcdcd\n",
      "xababcdcdababcdcd\n",
      "xababcdcdababcdcd\n",
      "x2ababcdcd\n"
     ]
    },
    {
     "data": {
      "text/plain": [
       "10"
      ]
     },
     "execution_count": 103,
     "metadata": {},
     "output_type": "execute_result"
    }
   ],
   "source": [
    "compression(s)"
   ]
  },
  {
   "cell_type": "code",
   "execution_count": 3,
   "metadata": {},
   "outputs": [
    {
     "name": "stdout",
     "output_type": "stream",
     "text": [
      "0\n",
      "2\n",
      "4\n",
      "6\n",
      "8\n",
      "10\n",
      "12\n",
      "14\n"
     ]
    }
   ],
   "source": [
    "for k in range(0,len(s),2):\n",
    "    print(k)"
   ]
  },
  {
   "cell_type": "code",
   "execution_count": null,
   "metadata": {},
   "outputs": [],
   "source": [
    "def compression(s):\n",
    "    answer = len(s)\n",
    "    temp = \"\"\n",
    "    for j in range(2,int(len(s)/2)+1): # j는 단위\n",
    "        tempS= s\n",
    "        while len(tempS) >0:\n",
    "            for i in range(len(tempS)-2*j+1): # string 길이에서\n",
    "                count=1\n",
    "                for k in range(i+j,len(tempS),j): # 단위 다음부터 단위만큼이동\n",
    "                    if tempS[i:i+j] != s[i+j:i+j+k]:\n",
    "                        break\n",
    "                    else:\n",
    "                        count+=1\n",
    "                if count !=1:\n",
    "                    temp += str(count)+tempS[i:i+j]\n",
    "                else:\n",
    "                    break\n",
    "        print(temp)\n",
    "    return(answer)"
   ]
  }
 ],
 "metadata": {
  "kernelspec": {
   "display_name": "Python 3",
   "language": "python",
   "name": "python3"
  },
  "language_info": {
   "codemirror_mode": {
    "name": "ipython",
    "version": 3
   },
   "file_extension": ".py",
   "mimetype": "text/x-python",
   "name": "python",
   "nbconvert_exporter": "python",
   "pygments_lexer": "ipython3",
   "version": "3.6.10"
  }
 },
 "nbformat": 4,
 "nbformat_minor": 4
}
