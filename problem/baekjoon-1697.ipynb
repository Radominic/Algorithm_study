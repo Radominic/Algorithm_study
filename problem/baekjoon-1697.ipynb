{
 "cells": [
  {
   "cell_type": "markdown",
   "metadata": {},
   "source": [
    "## 최단거리문제는 BFS로 풀이 "
   ]
  },
  {
   "cell_type": "code",
   "execution_count": 115,
   "metadata": {},
   "outputs": [
    {
     "name": "stdout",
     "output_type": "stream",
     "text": [
      "5 17\n",
      "4\n"
     ]
    }
   ],
   "source": [
    "from collections import deque, defaultdict\n",
    "n,k = list(map(int,input().split())) # input\n",
    "max = 10**5\n",
    "\n",
    "def bfs():\n",
    "    q= deque()\n",
    "    q.append(n)\n",
    "    dist = defaultdict(int)\n",
    "    while q:\n",
    "        x = q.popleft()\n",
    "        if x==k:\n",
    "            print(dist[x]) # 답 출력\n",
    "            break\n",
    "        for nx in (x+1,x-1,x*2):\n",
    "            if 0<=nx<=max and nx not in dist.keys():\n",
    "                dist[nx] = dist[x]+1\n",
    "                q.append(nx)\n",
    "bfs() # 실행"
   ]
  },
  {
   "cell_type": "code",
   "execution_count": null,
   "metadata": {},
   "outputs": [],
   "source": []
  }
 ],
 "metadata": {
  "kernelspec": {
   "display_name": "conda",
   "language": "python",
   "name": "base"
  },
  "language_info": {
   "codemirror_mode": {
    "name": "ipython",
    "version": 3
   },
   "file_extension": ".py",
   "mimetype": "text/x-python",
   "name": "python",
   "nbconvert_exporter": "python",
   "pygments_lexer": "ipython3",
   "version": "3.7.7"
  }
 },
 "nbformat": 4,
 "nbformat_minor": 4
}
