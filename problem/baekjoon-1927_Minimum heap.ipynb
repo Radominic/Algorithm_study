{
 "cells": [
  {
   "cell_type": "markdown",
   "metadata": {},
   "source": [
    "# 구현"
   ]
  },
  {
   "cell_type": "code",
   "execution_count": 405,
   "metadata": {},
   "outputs": [],
   "source": [
    "N=9\n",
    "arr=[0,12345678,1,2,0,0,0,0,32]"
   ]
  },
  {
   "cell_type": "code",
   "execution_count": 406,
   "metadata": {},
   "outputs": [],
   "source": [
    "class Heap:\n",
    "    def __init__(self):\n",
    "        self.heap = list([0])\n",
    "        self.size = len(self.heap)-1\n",
    "        self.results = list()\n",
    "    def insert(self,num):\n",
    "        print('insert : ',num)\n",
    "        \n",
    "        self.heap.append(num)\n",
    "        self.size = len(self.heap)-1\n",
    "        \n",
    "        if self.size!=1:\n",
    "            \n",
    "            index = self.size\n",
    "            \n",
    "            while index != 1 :   \n",
    "                p_index = index//2\n",
    "                if self.heap[p_index]>self.heap[index]:\n",
    "                    temp = self.heap[p_index]\n",
    "                    self.heap[p_index] = self.heap[index]\n",
    "                    self.heap[index] = temp\n",
    "                    index = p_index\n",
    "                else:\n",
    "                    break\n",
    "                \n",
    "        print(self.heap)\n",
    "        \n",
    "    def delete(self,num):\n",
    "        #print('delete : ',num)\n",
    "        #print(num,self.heap)\n",
    "        if self.size == 0:\n",
    "            self.results.append(0)\n",
    "        elif self.size ==1:\n",
    "            self.results.append(self.heap.pop())\n",
    "            self.size = len(self.heap)-1\n",
    "        else:\n",
    "            self.results.append(self.heap[1])\n",
    "            self.heap[1] = self.heap.pop()\n",
    "            self.size = len(self.heap)-1\n",
    "            \n",
    "            p_index = 1\n",
    "            while True:\n",
    "                index_left = p_index*2\n",
    "                index_right = p_index*2+1\n",
    "                \n",
    "                if self.size >= index_right and self.heap[index_right]< self.heap[index_left]:\n",
    "                    if self.heap[p_index]>self.heap[index_right]:\n",
    "                        temp = self.heap[p_index]\n",
    "                        self.heap[p_index] = self.heap[index_right]\n",
    "                        self.heap[index_right] = temp\n",
    "                        p_index = index_right\n",
    "                    else: \n",
    "                        break\n",
    "                    \n",
    "                elif self.size >= index_left and self.heap[p_index]>self.heap[index_left]:\n",
    "                    temp = self.heap[p_index]\n",
    "                    self.heap[p_index] = self.heap[index_left]\n",
    "                    self.heap[index_left] = temp\n",
    "                    p_index=index_left\n",
    "                else:\n",
    "                    break\n",
    "        print(self.heap)"
   ]
  },
  {
   "cell_type": "code",
   "execution_count": 407,
   "metadata": {},
   "outputs": [
    {
     "name": "stdout",
     "output_type": "stream",
     "text": [
      "[0]\n",
      "insert :  12345678\n",
      "[0, 12345678]\n",
      "insert :  1\n",
      "[0, 1, 12345678]\n",
      "insert :  2\n",
      "[0, 1, 12345678, 2]\n",
      "[0, 2, 12345678]\n",
      "[0, 12345678]\n",
      "[0]\n",
      "[0]\n",
      "insert :  32\n",
      "[0, 32]\n"
     ]
    }
   ],
   "source": [
    "heap = Heap()\n",
    "for i in arr:\n",
    "    if i ==0:\n",
    "        heap.delete(i)\n",
    "    else:\n",
    "        heap.insert(i)"
   ]
  },
  {
   "cell_type": "code",
   "execution_count": 408,
   "metadata": {},
   "outputs": [
    {
     "name": "stdout",
     "output_type": "stream",
     "text": [
      "0\n",
      "1\n",
      "2\n",
      "12345678\n",
      "0\n"
     ]
    }
   ],
   "source": [
    "for i,v in enumerate(heap.results):\n",
    "    print(v)"
   ]
  },
  {
   "cell_type": "code",
   "execution_count": 347,
   "metadata": {},
   "outputs": [
    {
     "ename": "ValueError",
     "evalue": "invalid literal for int() with base 10: ''",
     "output_type": "error",
     "traceback": [
      "\u001b[1;31m---------------------------------------------------------------------------\u001b[0m",
      "\u001b[1;31mValueError\u001b[0m                                Traceback (most recent call last)",
      "\u001b[1;32m<ipython-input-347-d97f7abf5834>\u001b[0m in \u001b[0;36m<module>\u001b[1;34m\u001b[0m\n\u001b[0;32m     66\u001b[0m \u001b[1;33m\u001b[0m\u001b[0m\n\u001b[0;32m     67\u001b[0m \u001b[1;32mimport\u001b[0m \u001b[0msys\u001b[0m\u001b[1;33m\u001b[0m\u001b[1;33m\u001b[0m\u001b[0m\n\u001b[1;32m---> 68\u001b[1;33m \u001b[0mN\u001b[0m \u001b[1;33m=\u001b[0m \u001b[0mint\u001b[0m\u001b[1;33m(\u001b[0m\u001b[0msys\u001b[0m\u001b[1;33m.\u001b[0m\u001b[0mstdin\u001b[0m\u001b[1;33m.\u001b[0m\u001b[0mreadline\u001b[0m\u001b[1;33m(\u001b[0m\u001b[1;33m)\u001b[0m\u001b[1;33m)\u001b[0m\u001b[1;33m\u001b[0m\u001b[1;33m\u001b[0m\u001b[0m\n\u001b[0m\u001b[0;32m     69\u001b[0m \u001b[1;32mfor\u001b[0m \u001b[0mi\u001b[0m \u001b[1;32min\u001b[0m \u001b[0mrange\u001b[0m\u001b[1;33m(\u001b[0m\u001b[0mN\u001b[0m\u001b[1;33m)\u001b[0m\u001b[1;33m:\u001b[0m\u001b[1;33m\u001b[0m\u001b[1;33m\u001b[0m\u001b[0m\n\u001b[0;32m     70\u001b[0m     \u001b[0mx\u001b[0m \u001b[1;33m=\u001b[0m \u001b[0mint\u001b[0m\u001b[1;33m(\u001b[0m\u001b[0msys\u001b[0m\u001b[1;33m.\u001b[0m\u001b[0mstdin\u001b[0m\u001b[1;33m.\u001b[0m\u001b[0mreadline\u001b[0m\u001b[1;33m(\u001b[0m\u001b[1;33m)\u001b[0m\u001b[1;33m)\u001b[0m\u001b[1;33m\u001b[0m\u001b[1;33m\u001b[0m\u001b[0m\n",
      "\u001b[1;31mValueError\u001b[0m: invalid literal for int() with base 10: ''"
     ]
    }
   ],
   "source": [
    "# 제출용\n",
    "    \n",
    "class Heap:\n",
    "    def __init__(self):\n",
    "        self.heap = list([0])\n",
    "        self.size = len(self.heap)-1\n",
    "        self.results = list()\n",
    "    def insert(self,num):\n",
    "        #print('insert : ',num)\n",
    "        \n",
    "        self.heap.append(num)\n",
    "        self.size = len(self.heap)-1\n",
    "        \n",
    "        if self.size!=1:\n",
    "            \n",
    "            index = self.size\n",
    "            \n",
    "            while index != 1 :   \n",
    "                p_index = index//2\n",
    "                if self.heap[p_index]>self.heap[index]:\n",
    "                    temp = self.heap[p_index]\n",
    "                    self.heap[p_index] = self.heap[index]\n",
    "                    self.heap[index] = temp\n",
    "                    index = p_index\n",
    "                else:\n",
    "                    break\n",
    "                \n",
    "        #print(self.heap)\n",
    "        \n",
    "    def delete(self,num):\n",
    "        #print('delete : ',num)\n",
    "        #print(num,self.heap)\n",
    "        if self.size == 0:\n",
    "            self.results.append(0)\n",
    "        elif self.size ==1:\n",
    "            self.results.append(self.heap.pop())\n",
    "            self.size = len(self.heap)-1\n",
    "        else:\n",
    "            self.results.append(self.heap[1])\n",
    "            self.heap[1] = self.heap.pop()\n",
    "            self.size = len(self.heap)-1\n",
    "            \n",
    "            p_index = 1\n",
    "            while True:\n",
    "                index_left = p_index*2\n",
    "                index_right = p_index*2+1\n",
    "                \n",
    "                if self.size >= index_right and self.heap[index_right]< self.heap[index_left]:\n",
    "                    if self.heap[p_index]>self.heap[index_right]:\n",
    "                        temp = self.heap[p_index]\n",
    "                        self.heap[p_index] = self.heap[index_right]\n",
    "                        self.heap[index_right] = temp\n",
    "                        p_index = index_right\n",
    "                    else: \n",
    "                        break\n",
    "                    \n",
    "                elif self.size >= index_left and self.heap[p_index]>self.heap[index_left]:\n",
    "                    temp = self.heap[p_index]\n",
    "                    self.heap[p_index] = self.heap[index_left]\n",
    "                    self.heap[index_left] = temp\n",
    "                    p_index=index_left\n",
    "                else:\n",
    "                    break\n",
    "\n",
    "heap = Heap()\n",
    "\n",
    "\n",
    "import sys\n",
    "N = int(sys.stdin.readline())\n",
    "for i in range(N):\n",
    "    x = int(sys.stdin.readline())\n",
    "    if x ==0:\n",
    "        heap.delete(x)\n",
    "    else:\n",
    "        heap.insert(x)\n",
    "\n",
    "for i,v in enumerate(heap.results):\n",
    "    print(v)"
   ]
  },
  {
   "cell_type": "markdown",
   "metadata": {},
   "source": [
    "### library"
   ]
  },
  {
   "cell_type": "code",
   "execution_count": 348,
   "metadata": {},
   "outputs": [],
   "source": [
    "N=9\n",
    "arr=[0,12345678,1,2,0,0,0,0,32]"
   ]
  },
  {
   "cell_type": "code",
   "execution_count": 349,
   "metadata": {},
   "outputs": [
    {
     "name": "stdout",
     "output_type": "stream",
     "text": [
      "0\n",
      "1\n",
      "2\n",
      "12345678\n",
      "0\n"
     ]
    }
   ],
   "source": [
    "import heapq\n",
    "heap=[]\n",
    "for i in arr:\n",
    "    if i==0:\n",
    "        if len(heap)==0:\n",
    "            print(0)\n",
    "        else:\n",
    "            print(heapq.heappop(heap))\n",
    "    else:\n",
    "        heapq.heappush(heap,i)\n",
    "            "
   ]
  },
  {
   "cell_type": "code",
   "execution_count": 350,
   "metadata": {},
   "outputs": [
    {
     "ename": "ValueError",
     "evalue": "invalid literal for int() with base 10: ''",
     "output_type": "error",
     "traceback": [
      "\u001b[1;31m---------------------------------------------------------------------------\u001b[0m",
      "\u001b[1;31mValueError\u001b[0m                                Traceback (most recent call last)",
      "\u001b[1;32m<ipython-input-350-fd0799fa4820>\u001b[0m in \u001b[0;36m<module>\u001b[1;34m\u001b[0m\n\u001b[0;32m      3\u001b[0m \u001b[1;32mimport\u001b[0m \u001b[0msys\u001b[0m\u001b[1;33m\u001b[0m\u001b[1;33m\u001b[0m\u001b[0m\n\u001b[0;32m      4\u001b[0m \u001b[1;32mimport\u001b[0m \u001b[0mheapq\u001b[0m\u001b[1;33m\u001b[0m\u001b[1;33m\u001b[0m\u001b[0m\n\u001b[1;32m----> 5\u001b[1;33m \u001b[0mN\u001b[0m\u001b[1;33m=\u001b[0m \u001b[0mint\u001b[0m\u001b[1;33m(\u001b[0m\u001b[0msys\u001b[0m\u001b[1;33m.\u001b[0m\u001b[0mstdin\u001b[0m\u001b[1;33m.\u001b[0m\u001b[0mreadline\u001b[0m\u001b[1;33m(\u001b[0m\u001b[1;33m)\u001b[0m\u001b[1;33m)\u001b[0m\u001b[1;33m\u001b[0m\u001b[1;33m\u001b[0m\u001b[0m\n\u001b[0m\u001b[0;32m      6\u001b[0m \u001b[0mheap\u001b[0m\u001b[1;33m=\u001b[0m\u001b[1;33m[\u001b[0m\u001b[1;33m]\u001b[0m\u001b[1;33m\u001b[0m\u001b[1;33m\u001b[0m\u001b[0m\n\u001b[0;32m      7\u001b[0m \u001b[1;32mfor\u001b[0m \u001b[0mi\u001b[0m \u001b[1;32min\u001b[0m \u001b[0mrange\u001b[0m\u001b[1;33m(\u001b[0m\u001b[0mN\u001b[0m\u001b[1;33m)\u001b[0m\u001b[1;33m:\u001b[0m\u001b[1;33m\u001b[0m\u001b[1;33m\u001b[0m\u001b[0m\n",
      "\u001b[1;31mValueError\u001b[0m: invalid literal for int() with base 10: ''"
     ]
    }
   ],
   "source": [
    "# 제출용\n",
    "\n",
    "import sys\n",
    "import heapq\n",
    "N= int(sys.stdin.readline())\n",
    "heap=[]\n",
    "for i in range(N):\n",
    "    x = int(sys.stdin.readline())\n",
    "    if x==0:\n",
    "        if len(heap)!=0:\n",
    "            print(heapq.heappop(heap))\n",
    "        else:\n",
    "            print(0)\n",
    "    else:\n",
    "        heapq.heappush(heap,x)"
   ]
  },
  {
   "cell_type": "code",
   "execution_count": null,
   "metadata": {},
   "outputs": [],
   "source": []
  }
 ],
 "metadata": {
  "kernelspec": {
   "display_name": "conda",
   "language": "python",
   "name": "base"
  },
  "language_info": {
   "codemirror_mode": {
    "name": "ipython",
    "version": 3
   },
   "file_extension": ".py",
   "mimetype": "text/x-python",
   "name": "python",
   "nbconvert_exporter": "python",
   "pygments_lexer": "ipython3",
   "version": "3.7.7"
  }
 },
 "nbformat": 4,
 "nbformat_minor": 4
}
