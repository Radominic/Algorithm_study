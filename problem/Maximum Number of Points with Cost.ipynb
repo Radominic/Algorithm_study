{
 "cells": [
  {
   "cell_type": "code",
   "execution_count": 47,
   "metadata": {},
   "outputs": [],
   "source": [
    "points =  [[1,2,3],[1,5,1],[3,1,1]]"
   ]
  },
  {
   "cell_type": "code",
   "execution_count": 28,
   "metadata": {},
   "outputs": [],
   "source": [
    "#dfs\n",
    "\n",
    "limit = len(points)\n",
    "maximum=0\n",
    "\n",
    "def dfs(start,score,length):\n",
    "    global maximum\n",
    "    score+=start[1] # 자신\n",
    "    \n",
    "    if length ==len(points)-1:\n",
    "        if maximum<score:\n",
    "            maximum=score\n",
    "        return\n",
    "    \n",
    "    \n",
    "    for i,v in enumerate(points[length+1]):\n",
    "        dfs([i,v],score-abs(start[0]-i),length+1)\n",
    "\n",
    "for i,v in enumerate(points[0]):\n",
    "    dfs([i,v],0,0)\n",
    "    \n",
    "\n"
   ]
  },
  {
   "cell_type": "code",
   "execution_count": 29,
   "metadata": {},
   "outputs": [
    {
     "data": {
      "text/plain": [
       "9"
      ]
     },
     "execution_count": 29,
     "metadata": {},
     "output_type": "execute_result"
    }
   ],
   "source": [
    "maximum"
   ]
  },
  {
   "cell_type": "code",
   "execution_count": 48,
   "metadata": {},
   "outputs": [
    {
     "name": "stdout",
     "output_type": "stream",
     "text": [
      "[[1, 2, 3], [6, 7, 6], [9, 8, 7]]\n"
     ]
    }
   ],
   "source": [
    "# DP\n",
    "\n",
    "m, n = len(points), len(points[0])\n",
    "for i in range(1, m):\n",
    "    #left max\n",
    "    for j in range(1,n):\n",
    "        points[i-1][j] = max(points[i-1][j-1]-1,points[i-1][j])\n",
    "    #right max\n",
    "    for j in range(n-2, -1, -1):\n",
    "        points[i-1][j] = max(points[i-1][j], points[i-1][j+1]-1)\n",
    "    for j in range(n): \n",
    "        points[i][j] += points[i-1][j]\n",
    "return max(points[-1])\n"
   ]
  },
  {
   "cell_type": "code",
   "execution_count": null,
   "metadata": {},
   "outputs": [],
   "source": []
  }
 ],
 "metadata": {
  "kernelspec": {
   "display_name": "conda",
   "language": "python",
   "name": "base"
  },
  "language_info": {
   "codemirror_mode": {
    "name": "ipython",
    "version": 3
   },
   "file_extension": ".py",
   "mimetype": "text/x-python",
   "name": "python",
   "nbconvert_exporter": "python",
   "pygments_lexer": "ipython3",
   "version": "3.7.7"
  }
 },
 "nbformat": 4,
 "nbformat_minor": 4
}
