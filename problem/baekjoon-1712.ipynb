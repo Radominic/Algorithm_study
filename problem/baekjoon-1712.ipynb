{
 "cells": [
  {
   "cell_type": "code",
   "execution_count": null,
   "metadata": {},
   "outputs": [],
   "source": [
    "import sys\n",
    "\n",
    "a,b,c= map(int,sys.stdin.readline().split())\n",
    "\n",
    "n = a//(c-b) # 몫\n",
    "m = a%(c-b) #나머지\n",
    "\n",
    "if c-b <=0:\n",
    "    print(-1)\n",
    "else:\n",
    "    print(n+1)"
   ]
  },
  {
   "cell_type": "code",
   "execution_count": 12,
   "metadata": {},
   "outputs": [
    {
     "name": "stdout",
     "output_type": "stream",
     "text": [
      "2100000001\n"
     ]
    }
   ],
   "source": [
    "a = 2100000000\n",
    "b = 9\n",
    "c = 10\n",
    "\n",
    "n = a//(c-b) # 몫\n",
    "m = a%(c-b) #나머지\n",
    "\n",
    "if c-b <=0:\n",
    "    print(-1)\n",
    "else:\n",
    "    print(n+1)"
   ]
  },
  {
   "cell_type": "code",
   "execution_count": null,
   "metadata": {},
   "outputs": [],
   "source": []
  }
 ],
 "metadata": {
  "kernelspec": {
   "display_name": "conda",
   "language": "python",
   "name": "base"
  },
  "language_info": {
   "codemirror_mode": {
    "name": "ipython",
    "version": 3
   },
   "file_extension": ".py",
   "mimetype": "text/x-python",
   "name": "python",
   "nbconvert_exporter": "python",
   "pygments_lexer": "ipython3",
   "version": "3.7.7"
  }
 },
 "nbformat": 4,
 "nbformat_minor": 2
}
