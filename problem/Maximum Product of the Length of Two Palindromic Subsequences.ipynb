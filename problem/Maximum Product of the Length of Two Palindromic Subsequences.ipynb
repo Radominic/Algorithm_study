{
 "cells": [
  {
   "cell_type": "code",
   "execution_count": 9,
   "metadata": {},
   "outputs": [],
   "source": [
    "s = \"leetcodecom\""
   ]
  },
  {
   "cell_type": "code",
   "execution_count": 10,
   "metadata": {},
   "outputs": [],
   "source": [
    "def dp(i,j,s,mem): # dp, index,분리된 string,memeory를 받고 최대palindromic return\n",
    "    key = (i,j)\n",
    "    if key in mem:\n",
    "        return mem[key]\n",
    "    if i>j:\n",
    "        return 0\n",
    "    if s[i] == s[j]:\n",
    "        if i==j:\n",
    "            flag =1\n",
    "        else:\n",
    "            flag =2\n",
    "        ans = dp(i+1,j-1,s,mem)+flag\n",
    "    else:\n",
    "        ans = max(dp(i+1,j,s,mem),dp(i,j-1,s,mem))\n",
    "    \n",
    "    mem[key] = ans\n",
    "    return ans"
   ]
  },
  {
   "cell_type": "code",
   "execution_count": 11,
   "metadata": {
    "scrolled": false
   },
   "outputs": [
    {
     "name": "stdout",
     "output_type": "stream",
     "text": [
      "9\n"
     ]
    }
   ],
   "source": [
    "def case(num):\n",
    "    a=\"\"\n",
    "    b=\"\"\n",
    "    for i in range(len(s)):\n",
    "        if num&(1<<i):\n",
    "            a+=s[i]\n",
    "        else:\n",
    "            b+=s[i]\n",
    "    ans_a = dp(0,len(a)-1,a,{})\n",
    "    ans_b = dp(0,len(b)-1,b,{})\n",
    "    return ans_a*ans_b\n",
    "\n",
    "ans=0\n",
    "for i in range(1<<len(s)-1): # bitmask로 경우의수 구하기\n",
    "    ans=max(ans,case(i))\n",
    "print(ans)"
   ]
  },
  {
   "cell_type": "code",
   "execution_count": null,
   "metadata": {},
   "outputs": [],
   "source": []
  }
 ],
 "metadata": {
  "kernelspec": {
   "display_name": "conda",
   "language": "python",
   "name": "base"
  },
  "language_info": {
   "codemirror_mode": {
    "name": "ipython",
    "version": 3
   },
   "file_extension": ".py",
   "mimetype": "text/x-python",
   "name": "python",
   "nbconvert_exporter": "python",
   "pygments_lexer": "ipython3",
   "version": "3.7.7"
  }
 },
 "nbformat": 4,
 "nbformat_minor": 2
}
