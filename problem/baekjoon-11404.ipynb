{
 "cells": [
  {
   "cell_type": "code",
   "execution_count": 7,
   "metadata": {},
   "outputs": [],
   "source": [
    "import sys\n",
    "input = sys.stdin.readline"
   ]
  },
  {
   "cell_type": "code",
   "execution_count": 18,
   "metadata": {},
   "outputs": [
    {
     "name": "stdout",
     "output_type": "stream",
     "text": [
      "5\n",
      "14\n",
      "1 2 2\n",
      "1 3 3\n",
      "1 4 1\n",
      "1 5 10\n",
      "2 4 2\n",
      "3 4 1\n",
      "3 5 1\n",
      "4 5 3\n",
      "3 5 10\n",
      "3 1 8\n",
      "1 4 2\n",
      "5 1 7\n",
      "3 4 2\n",
      "5 2 4\n"
     ]
    }
   ],
   "source": [
    "n=int(input())\n",
    "m=int(input())\n",
    "g=[[ 10**7for _ in range(n)] for _ in range(n)]\n",
    "for _ in range(m):\n",
    "    a,b,c = list(map(int,input().split()))\n",
    "    if g[a-1][b-1]>c:\n",
    "        g[a-1][b-1] =c"
   ]
  },
  {
   "cell_type": "code",
   "execution_count": 32,
   "metadata": {},
   "outputs": [],
   "source": [
    "for i in range(n):\n",
    "    g[i][i] = 0"
   ]
  },
  {
   "cell_type": "code",
   "execution_count": 33,
   "metadata": {},
   "outputs": [],
   "source": [
    "for k in range(n):\n",
    "    for i in range(n):\n",
    "        for j in range(n):\n",
    "            if g[i][j] > g[i][k]+g[k][j]:\n",
    "                g[i][j] = g[i][k]+g[k][j]"
   ]
  },
  {
   "cell_type": "code",
   "execution_count": 36,
   "metadata": {},
   "outputs": [
    {
     "name": "stdout",
     "output_type": "stream",
     "text": [
      "0 2 3 1 4 \n",
      "12 0 15 2 5 \n",
      "8 5 0 1 1 \n",
      "10 7 13 0 3 \n",
      "7 4 10 6 0 \n"
     ]
    }
   ],
   "source": [
    "for i in g:\n",
    "    for j in i:\n",
    "        if j==10**7:\n",
    "            j=0\n",
    "        print(j,end=\" \")\n",
    "    print()"
   ]
  },
  {
   "cell_type": "code",
   "execution_count": null,
   "metadata": {},
   "outputs": [],
   "source": []
  }
 ],
 "metadata": {
  "kernelspec": {
   "display_name": "conda",
   "language": "python",
   "name": "base"
  },
  "language_info": {
   "codemirror_mode": {
    "name": "ipython",
    "version": 3
   },
   "file_extension": ".py",
   "mimetype": "text/x-python",
   "name": "python",
   "nbconvert_exporter": "python",
   "pygments_lexer": "ipython3",
   "version": "3.7.7"
  }
 },
 "nbformat": 4,
 "nbformat_minor": 4
}
