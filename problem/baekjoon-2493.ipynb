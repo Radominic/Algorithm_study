{
 "cells": [
  {
   "cell_type": "code",
   "execution_count": 1,
   "metadata": {},
   "outputs": [],
   "source": [
    "import sys\n",
    "n = sys.stdin.readline()\n",
    "arr = list(map(int, sys.stdin.readline().split()))"
   ]
  },
  {
   "cell_type": "code",
   "execution_count": 13,
   "metadata": {},
   "outputs": [],
   "source": [
    "n=6\n",
    "arr=[6,4,5,2,5,1]"
   ]
  },
  {
   "cell_type": "code",
   "execution_count": 14,
   "metadata": {},
   "outputs": [],
   "source": [
    "n=5\n",
    "arr=[6,9,5,7,4]"
   ]
  },
  {
   "cell_type": "code",
   "execution_count": 15,
   "metadata": {},
   "outputs": [
    {
     "name": "stdout",
     "output_type": "stream",
     "text": [
      "0 0 2 2 4\n"
     ]
    }
   ],
   "source": [
    "#방법4\n",
    "\n",
    "answer=[]\n",
    "tempArr=[]\n",
    "for i,v in enumerate(arr):\n",
    "    while len(tempArr)>0:\n",
    "        if tempArr[-1][1]<v:\n",
    "            tempArr.pop()\n",
    "        else:\n",
    "            answer.append(tempArr[-1][0]+1)\n",
    "            break\n",
    "    if len(tempArr)==0:\n",
    "        answer.append(0)\n",
    "    tempArr.append([i,v])\n",
    "\n",
    "#print(tempArr)\n",
    "for i,v in enumerate(answer):\n",
    "    if i==len(answer)-1:\n",
    "        print(v)\n",
    "    else:\n",
    "        print(v,end=' ')"
   ]
  },
  {
   "cell_type": "code",
   "execution_count": null,
   "metadata": {},
   "outputs": [],
   "source": [
    "#제출용\n",
    "import sys\n",
    "n=int(sys.stdin.readline())\n",
    "arr = list(map(int, sys.stdin.readline().split()))\n",
    "\n",
    "answer=[]\n",
    "tempArr=[]\n",
    "for i,v in enumerate(arr):\n",
    "    while len(tempArr)>0:\n",
    "        if tempArr[-1][1]<v:\n",
    "            tempArr.pop()\n",
    "        else:\n",
    "            answer.append(tempArr[-1][0]+1)\n",
    "            break\n",
    "    if len(tempArr)==0:\n",
    "        answer.append(0)\n",
    "    tempArr.append([i,v])\n",
    "\n",
    "#print(tempArr)\n",
    "for i,v in enumerate(answer):\n",
    "    if i==len(answer)-1:\n",
    "        print(v)\n",
    "    else:\n",
    "        print(v,end=' ')"
   ]
  }
 ],
 "metadata": {
  "kernelspec": {
   "display_name": "Python 3",
   "language": "python",
   "name": "python3"
  },
  "language_info": {
   "codemirror_mode": {
    "name": "ipython",
    "version": 3
   },
   "file_extension": ".py",
   "mimetype": "text/x-python",
   "name": "python",
   "nbconvert_exporter": "python",
   "pygments_lexer": "ipython3",
   "version": "3.6.10"
  }
 },
 "nbformat": 4,
 "nbformat_minor": 4
}
