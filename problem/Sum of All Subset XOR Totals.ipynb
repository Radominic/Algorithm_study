{
 "cells": [
  {
   "cell_type": "code",
   "execution_count": 179,
   "metadata": {},
   "outputs": [],
   "source": [
    "nums = [3,4,5,6,7,8]"
   ]
  },
  {
   "cell_type": "code",
   "execution_count": 190,
   "metadata": {},
   "outputs": [],
   "source": [
    "def binary(a): # binary 변환\n",
    "    a_binary = []\n",
    "    while a >0:\n",
    "        a_binary.append(a%2)\n",
    "        a = a//2\n",
    "    return a_binary\n",
    "\n",
    "def xor(arr): # xor 계산 (list로 받음)\n",
    "    result = 0\n",
    "    length= max(arr)\n",
    "    for i in range(len(arr)):\n",
    "        arr[i] = binary(arr[i])\n",
    "        for j in range(length-len(arr[i])):\n",
    "            arr[i].append(0)\n",
    "    for i,v in enumerate(zip(*arr)):\n",
    "        if sum(v)%2 !=0:\n",
    "            result += 2**i\n",
    "    return result\n",
    "\n",
    "def tree(nums,subset): # 트리 재귀 각 노드마다 누적된 subset의 xor 계산\n",
    "    global answer\n",
    "    if len(subset) !=0:\n",
    "        cal = subset[:]\n",
    "        answer += xor(cal)\n",
    "    for i,v in enumerate(nums):\n",
    "        tree(nums[i+1:],subset+[v])\n",
    "    return answer"
   ]
  },
  {
   "cell_type": "code",
   "execution_count": 191,
   "metadata": {},
   "outputs": [
    {
     "data": {
      "text/plain": [
       "480"
      ]
     },
     "execution_count": 191,
     "metadata": {},
     "output_type": "execute_result"
    }
   ],
   "source": [
    "answer = 0\n",
    "tree(nums,list())"
   ]
  },
  {
   "cell_type": "code",
   "execution_count": null,
   "metadata": {},
   "outputs": [],
   "source": []
  }
 ],
 "metadata": {
  "kernelspec": {
   "display_name": "conda",
   "language": "python",
   "name": "base"
  },
  "language_info": {
   "codemirror_mode": {
    "name": "ipython",
    "version": 3
   },
   "file_extension": ".py",
   "mimetype": "text/x-python",
   "name": "python",
   "nbconvert_exporter": "python",
   "pygments_lexer": "ipython3",
   "version": "3.7.7"
  }
 },
 "nbformat": 4,
 "nbformat_minor": 2
}
