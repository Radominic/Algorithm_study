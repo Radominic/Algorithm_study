{
 "cells": [
  {
   "cell_type": "code",
   "execution_count": null,
   "metadata": {},
   "outputs": [],
   "source": [
    "import sys\n",
    "input = sys.stdin.readline"
   ]
  },
  {
   "cell_type": "code",
   "execution_count": 34,
   "metadata": {},
   "outputs": [
    {
     "name": "stdout",
     "output_type": "stream",
     "text": [
      "3 3\n",
      "1 2 1\n",
      "2 3 2\n",
      "1 3 3\n",
      "3\n"
     ]
    }
   ],
   "source": [
    "v,e = map(int,input().split())\n",
    "g=[]\n",
    "for i in range(e):\n",
    "    a,b,c = map(int,input().split())\n",
    "    g.append([c,a,b])\n",
    "    \n",
    "root = [i for i in range(e+1)]\n",
    "\n",
    "g.sort()\n",
    "\n",
    "def findRoot(x):\n",
    "    if x != root[x]:\n",
    "        root[x] = findRoot(root[x])\n",
    "    return root[x]\n",
    "\n",
    "result = 0\n",
    "for w,a,b in g:\n",
    "    a = findRoot(a)\n",
    "    b = findRoot(b)\n",
    "    if a != b:\n",
    "        if a>b:\n",
    "            root[a]=b\n",
    "        else:\n",
    "            root[b]=a\n",
    "        result+=w\n",
    "        \n",
    "print(result)"
   ]
  },
  {
   "cell_type": "code",
   "execution_count": 1,
   "metadata": {},
   "outputs": [
    {
     "name": "stdout",
     "output_type": "stream",
     "text": [
      "3 3\n",
      "1 2 1\n",
      "2 3 2\n",
      "1 3 3\n",
      "0\n"
     ]
    }
   ],
   "source": [
    "import sys\n",
    "\n",
    "V, E = map(int, input().split())\n",
    "Vroot = [i for i in range(V+1)]\n",
    "Elist = []\n",
    "for _ in range(E):\n",
    "    Elist.append(list(map(int, input().split())))\n",
    "Elist.sort(key=lambda x: x[2])\n",
    "\n",
    "\n",
    "def find(x):\n",
    "    if x != Vroot[x]:\n",
    "        Vroot[x] = find(Vroot[x])\n",
    "        return Vroot[x]\n",
    "\n",
    "answer = 0\n",
    "for s, e, w in Elist:\n",
    "    sRoot = find(s)\n",
    "    eRoot = find(e)\n",
    "    if sRoot != eRoot:\n",
    "        if sRoot > eRoot:\n",
    "            Vroot[sRoot] = eRoot\n",
    "        else:\n",
    "            Vroot[eRoot] = sRoot\n",
    "        answer += w\n",
    "\n",
    "print(answer)"
   ]
  },
  {
   "cell_type": "code",
   "execution_count": null,
   "metadata": {},
   "outputs": [],
   "source": []
  }
 ],
 "metadata": {
  "kernelspec": {
   "display_name": "conda",
   "language": "python",
   "name": "base"
  },
  "language_info": {
   "codemirror_mode": {
    "name": "ipython",
    "version": 3
   },
   "file_extension": ".py",
   "mimetype": "text/x-python",
   "name": "python",
   "nbconvert_exporter": "python",
   "pygments_lexer": "ipython3",
   "version": "3.7.7"
  }
 },
 "nbformat": 4,
 "nbformat_minor": 2
}
