{
 "cells": [
  {
   "cell_type": "code",
   "execution_count": 4,
   "metadata": {},
   "outputs": [],
   "source": [
    "import sys\n",
    "# input = sys.stdin.readline"
   ]
  },
  {
   "cell_type": "code",
   "execution_count": 12,
   "metadata": {},
   "outputs": [
    {
     "name": "stdout",
     "output_type": "stream",
     "text": [
      "1\n",
      "2\n",
      "33\n",
      "433\n",
      "['33', '433']\n",
      "YES\n"
     ]
    }
   ],
   "source": [
    "t = int(input())\n",
    "for _ in range(t):\n",
    "    n = int(input())\n",
    "    numbers = []\n",
    "    \n",
    "    for _ in range(n):\n",
    "        numbers.append(input().replace(' ','').strip())\n",
    "    numbers = sorted(numbers)\n",
    "    \n",
    "    check = 0\n",
    "\n",
    "    for i in range(1,n):\n",
    "        \n",
    "        l = len(numbers[i-1])\n",
    "        if l == len(numbers[i]):\n",
    "            continue\n",
    "            \n",
    "        if numbers[i][:l] == numbers[i-1]:\n",
    "            check = 1\n",
    "            break\n",
    "    print(numbers)\n",
    "    if check==0:\n",
    "        print('YES')\n",
    "    else:\n",
    "        print('NO')\n",
    "    "
   ]
  },
  {
   "cell_type": "code",
   "execution_count": null,
   "metadata": {},
   "outputs": [],
   "source": []
  }
 ],
 "metadata": {
  "kernelspec": {
   "display_name": "conda",
   "language": "python",
   "name": "base"
  },
  "language_info": {
   "codemirror_mode": {
    "name": "ipython",
    "version": 3
   },
   "file_extension": ".py",
   "mimetype": "text/x-python",
   "name": "python",
   "nbconvert_exporter": "python",
   "pygments_lexer": "ipython3",
   "version": "3.7.7"
  }
 },
 "nbformat": 4,
 "nbformat_minor": 4
}
