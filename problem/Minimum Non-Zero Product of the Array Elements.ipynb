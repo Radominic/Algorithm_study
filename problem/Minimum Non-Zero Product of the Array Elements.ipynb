{
 "cells": [
  {
   "cell_type": "code",
   "execution_count": 57,
   "metadata": {},
   "outputs": [],
   "source": [
    "p=2\n",
    "r = (1<<p)-1"
   ]
  },
  {
   "cell_type": "code",
   "execution_count": 58,
   "metadata": {},
   "outputs": [
    {
     "data": {
      "text/plain": [
       "'\\n7 -> 1,6  2,5  3,4 7\\n  -> 1,6  1,6  1,6 7\\n  \\n15 -> 1,14 2,13 3,12 4,11 5,10 6,9 7,8 15\\n   -> 1,14 1,14 1,14 1,14 1,14 1,14 1,14 15\\n'"
      ]
     },
     "execution_count": 58,
     "metadata": {},
     "output_type": "execute_result"
    }
   ],
   "source": [
    "'''\n",
    "7 -> 1,6  2,5  3,4 7\n",
    "  -> 1,6  1,6  1,6 7\n",
    "  \n",
    "15 -> 1,14 2,13 3,12 4,11 5,10 6,9 7,8 15\n",
    "   -> 1,14 1,14 1,14 1,14 1,14 1,14 1,14 15\n",
    "'''"
   ]
  },
  {
   "cell_type": "code",
   "execution_count": 66,
   "metadata": {},
   "outputs": [
    {
     "data": {
      "text/plain": [
       "6"
      ]
     },
     "execution_count": 66,
     "metadata": {},
     "output_type": "execute_result"
    }
   ],
   "source": [
    "(pow((r-1),(r//2),(10**9+7))*r)%(10**9+7)"
   ]
  },
  {
   "cell_type": "code",
   "execution_count": null,
   "metadata": {},
   "outputs": [],
   "source": [
    "(r-1)**(r//2)*r  % 1000000007"
   ]
  }
 ],
 "metadata": {
  "kernelspec": {
   "display_name": "conda",
   "language": "python",
   "name": "base"
  },
  "language_info": {
   "codemirror_mode": {
    "name": "ipython",
    "version": 3
   },
   "file_extension": ".py",
   "mimetype": "text/x-python",
   "name": "python",
   "nbconvert_exporter": "python",
   "pygments_lexer": "ipython3",
   "version": "3.7.7"
  }
 },
 "nbformat": 4,
 "nbformat_minor": 2
}
