{
 "cells": [
  {
   "cell_type": "code",
   "execution_count": 26,
   "metadata": {},
   "outputs": [],
   "source": [
    "n=6\n",
    "edge = [[3, 6], [4, 3], [3, 2], [1, 3], [1, 2], [2, 4], [5, 2]]"
   ]
  },
  {
   "cell_type": "code",
   "execution_count": 27,
   "metadata": {},
   "outputs": [
    {
     "data": {
      "text/plain": [
       "3"
      ]
     },
     "execution_count": 27,
     "metadata": {},
     "output_type": "execute_result"
    }
   ],
   "source": [
    "graph = [[] for i in range(n+1)]\n",
    "for s,e in edge:\n",
    "    graph[s].append([e,1])\n",
    "    graph[e].append([s,1])\n",
    "\n",
    "\n",
    "weight = [float('INF') for i in range(n+1)]\n",
    "import heapq\n",
    "q = []\n",
    "\n",
    "\n",
    "def dijkstra(start,weight):\n",
    "    weight[start]=0\n",
    "    heapq.heappush(q,[0,start])\n",
    "    \n",
    "    while q:\n",
    "        w,v = heapq.heappop(q)\n",
    "        \n",
    "        if weight[v] < w:\n",
    "            continue\n",
    "            \n",
    "        for e,v_w in graph[v]:\n",
    "            new_w = w + v_w\n",
    "            if weight[e] > new_w :\n",
    "                weight[e] = new_w \n",
    "                heapq.heappush(q,[new_w ,e])\n",
    "    return weight\n",
    "\n",
    "result = dijkstra(1,weight)\n",
    "result.count(max(result[1:]))\n"
   ]
  },
  {
   "cell_type": "code",
   "execution_count": null,
   "metadata": {},
   "outputs": [],
   "source": []
  }
 ],
 "metadata": {
  "kernelspec": {
   "display_name": "conda",
   "language": "python",
   "name": "base"
  },
  "language_info": {
   "codemirror_mode": {
    "name": "ipython",
    "version": 3
   },
   "file_extension": ".py",
   "mimetype": "text/x-python",
   "name": "python",
   "nbconvert_exporter": "python",
   "pygments_lexer": "ipython3",
   "version": "3.7.7"
  }
 },
 "nbformat": 4,
 "nbformat_minor": 4
}
