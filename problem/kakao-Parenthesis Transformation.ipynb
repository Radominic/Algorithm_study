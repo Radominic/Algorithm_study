{
 "cells": [
  {
   "cell_type": "code",
   "execution_count": 1,
   "metadata": {},
   "outputs": [],
   "source": [
    "def solution(p):\n",
    "    #1\n",
    "    if p=='':\n",
    "        return p\n",
    "    \n",
    "    count =0\n",
    "    u=''\n",
    "    v=''\n",
    "    #2\n",
    "    for index,i in enumerate(p):\n",
    "        if i=='(':\n",
    "            u+='('\n",
    "            count+=1\n",
    "        else:\n",
    "            u+=')'\n",
    "            count-=1\n",
    "        if count==0:\n",
    "            break\n",
    "    v = p[index+1:]\n",
    "    #3\n",
    "    if u[0] == '(':\n",
    "        return u+solution(v)\n",
    "    #4\n",
    "    else:\n",
    "        u = u[1:-1]\n",
    "        temp = ''\n",
    "        for i in u:\n",
    "            if i=='(':\n",
    "                temp+=')'\n",
    "            else:\n",
    "                temp +='('\n",
    "        return '('+solution(v)+')'+temp"
   ]
  },
  {
   "cell_type": "code",
   "execution_count": 2,
   "metadata": {},
   "outputs": [],
   "source": [
    "p = \"()))((()\""
   ]
  },
  {
   "cell_type": "code",
   "execution_count": 3,
   "metadata": {},
   "outputs": [
    {
     "data": {
      "text/plain": [
       "'()(())()'"
      ]
     },
     "execution_count": 3,
     "metadata": {},
     "output_type": "execute_result"
    }
   ],
   "source": [
    "solution(p)"
   ]
  }
 ],
 "metadata": {
  "kernelspec": {
   "display_name": "Python 3",
   "language": "python",
   "name": "python3"
  },
  "language_info": {
   "codemirror_mode": {
    "name": "ipython",
    "version": 3
   },
   "file_extension": ".py",
   "mimetype": "text/x-python",
   "name": "python",
   "nbconvert_exporter": "python",
   "pygments_lexer": "ipython3",
   "version": "3.6.10"
  }
 },
 "nbformat": 4,
 "nbformat_minor": 4
}
