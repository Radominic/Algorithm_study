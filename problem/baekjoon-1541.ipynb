{
 "cells": [
  {
   "cell_type": "code",
   "execution_count": 18,
   "metadata": {},
   "outputs": [],
   "source": [
    "def greedy(nums):\n",
    "    result=0\n",
    "    flag='+'\n",
    "    num=\"\"\n",
    "    for i in nums:\n",
    "        if i == '-':\n",
    "            result+=int(flag+num)\n",
    "            num=\"\"\n",
    "            flag='-'\n",
    "        elif i == '+':\n",
    "            result+=int(flag+num)\n",
    "            num=\"\"\n",
    "        else:\n",
    "            num+=i\n",
    "    result+=int(flag+num)\n",
    "    return result"
   ]
  },
  {
   "cell_type": "code",
   "execution_count": 31,
   "metadata": {},
   "outputs": [],
   "source": [
    "#nums = '55-50+40'\n",
    "#nums = '0+02+003+0004+00005'\n",
    "#nums = '10+20+30+40'\n",
    "#nums = '00009-00009'\n",
    "#nums = '123-123-123-123'\n",
    "#nums = '00-00'\n",
    "nums = '0-8994+8+00-610+722+6691-482+65-3'"
   ]
  },
  {
   "cell_type": "code",
   "execution_count": 32,
   "metadata": {},
   "outputs": [
    {
     "name": "stdout",
     "output_type": "stream",
     "text": [
      "-17575\n"
     ]
    }
   ],
   "source": [
    "#problem(nums)\n",
    "print(greedy(nums))"
   ]
  },
  {
   "cell_type": "code",
   "execution_count": null,
   "metadata": {},
   "outputs": [],
   "source": []
  },
  {
   "cell_type": "code",
   "execution_count": null,
   "metadata": {},
   "outputs": [],
   "source": []
  }
 ],
 "metadata": {
  "kernelspec": {
   "display_name": "fw",
   "language": "python",
   "name": "python3"
  },
  "language_info": {
   "codemirror_mode": {
    "name": "ipython",
    "version": 3
   },
   "file_extension": ".py",
   "mimetype": "text/x-python",
   "name": "python",
   "nbconvert_exporter": "python",
   "pygments_lexer": "ipython3",
   "version": "3.8.16"
  },
  "orig_nbformat": 4,
  "vscode": {
   "interpreter": {
    "hash": "c376df81214ae476ffb130b9de1c3031302e86c50c49eddb48456331836c724a"
   }
  }
 },
 "nbformat": 4,
 "nbformat_minor": 2
}
