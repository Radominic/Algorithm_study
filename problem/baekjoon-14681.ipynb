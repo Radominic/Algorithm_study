{
 "cells": [
  {
   "cell_type": "code",
   "execution_count": null,
   "metadata": {},
   "outputs": [],
   "source": [
    "import sys\n",
    "x = int(sys.stdin.readline())\n",
    "y = int(sys.stdin.readline())\n",
    "\n",
    "if x >0 and y>0:\n",
    "    print(1)\n",
    "elif x>0 and y<0:\n",
    "    print(2)\n",
    "elif x<0 and y>0:\n",
    "    print(3)\n",
    "else:\n",
    "    print(4)"
   ]
  }
 ],
 "metadata": {
  "kernelspec": {
   "display_name": "conda",
   "language": "python",
   "name": "base"
  },
  "language_info": {
   "codemirror_mode": {
    "name": "ipython",
    "version": 3
   },
   "file_extension": ".py",
   "mimetype": "text/x-python",
   "name": "python",
   "nbconvert_exporter": "python",
   "pygments_lexer": "ipython3",
   "version": "3.7.7"
  }
 },
 "nbformat": 4,
 "nbformat_minor": 2
}
