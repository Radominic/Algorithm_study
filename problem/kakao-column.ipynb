{
 "cells": [
  {
   "cell_type": "code",
   "execution_count": 59,
   "metadata": {},
   "outputs": [],
   "source": [
    "def solution(n, build_frame):\n",
    "    answer = []\n",
    "    \n",
    "    def check(ans):\n",
    "        for i in ans:\n",
    "            x,y,a = i\n",
    "            if a==0:#기둥\n",
    "                if y!=0 and[x,y-1,0] not in ans and [x-1,y,1] not in ans and [x,y,1] not in ans:\n",
    "                    return False\n",
    "            elif a==1:#보\n",
    "                if [x,y-1,0] not in ans and [x+1,y-1,0] not in ans and ([x-1,y,1] not in ans or [x+1,y,1] not in ans):\n",
    "                    return False\n",
    "        return True\n",
    "    for i in build_frame:\n",
    "        x,y,a,b = i\n",
    "        if b==1: #삽입\n",
    "            answer.append([x,y,a])\n",
    "            if check(answer) == False:\n",
    "                answer.pop()\n",
    "        elif b==0: #삭제\n",
    "            answer.remove([x,y,a])\n",
    "            if check(answer) == False:\n",
    "                answer.append([x,y,a])\n",
    "    return sorted(answer)"
   ]
  },
  {
   "cell_type": "code",
   "execution_count": 60,
   "metadata": {
    "scrolled": false
   },
   "outputs": [
    {
     "data": {
      "text/plain": [
       "[[0, 0, 0], [0, 1, 1], [1, 1, 1], [2, 1, 1], [3, 1, 1], [4, 0, 0]]"
      ]
     },
     "execution_count": 60,
     "metadata": {},
     "output_type": "execute_result"
    }
   ],
   "source": [
    "solution(5,[[0, 0, 0, 1], [2, 0, 0, 1], [4, 0, 0, 1], [0, 1, 1, 1], [1, 1, 1, 1], [2, 1, 1, 1], [3, 1, 1, 1], [2, 0, 0, 0], [1, 1, 1, 0], [2, 2, 0, 1]])"
   ]
  },
  {
   "cell_type": "code",
   "execution_count": null,
   "metadata": {},
   "outputs": [],
   "source": []
  }
 ],
 "metadata": {
  "kernelspec": {
   "display_name": "conda",
   "language": "python",
   "name": "base"
  },
  "language_info": {
   "codemirror_mode": {
    "name": "ipython",
    "version": 3
   },
   "file_extension": ".py",
   "mimetype": "text/x-python",
   "name": "python",
   "nbconvert_exporter": "python",
   "pygments_lexer": "ipython3",
   "version": "3.7.7"
  }
 },
 "nbformat": 4,
 "nbformat_minor": 2
}
