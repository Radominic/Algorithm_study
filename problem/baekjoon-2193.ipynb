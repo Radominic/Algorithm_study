{
 "cells": [
  {
   "cell_type": "code",
   "execution_count": 1,
   "metadata": {},
   "outputs": [],
   "source": [
    "import sys\n",
    "# sys.stdin.readline()"
   ]
  },
  {
   "cell_type": "code",
   "execution_count": 252,
   "metadata": {},
   "outputs": [],
   "source": [
    "n = 90"
   ]
  },
  {
   "cell_type": "code",
   "execution_count": 255,
   "metadata": {},
   "outputs": [],
   "source": [
    "mem0=[0 for _ in range(n)]\n",
    "mem1=[0 for _ in range(n)]\n",
    "\n",
    "def binary(n,pre,mem0,mem1):\n",
    "    result = 0\n",
    "\n",
    "    \n",
    "    if n==0:\n",
    "        return 1\n",
    "\n",
    "    if pre == 1:\n",
    "        if mem1[n]!=0:\n",
    "            result+= mem1[n]\n",
    "        else:\n",
    "            result+=binary(n-1,0,mem0,mem1)\n",
    "            mem1[n] = result\n",
    "    else:\n",
    "        if mem0[n]!=0:\n",
    "            result +=mem0[n]\n",
    "        else:\n",
    "            result+=binary(n-1,0,mem0,mem1)\n",
    "            result+=binary(n-1,1,mem0,mem1)\n",
    "            mem0[n] = result\n",
    "        \n",
    "        \n",
    "    return result\n",
    "\n"
   ]
  },
  {
   "cell_type": "code",
   "execution_count": 256,
   "metadata": {},
   "outputs": [
    {
     "data": {
      "text/plain": [
       "2880067194370816120"
      ]
     },
     "execution_count": 256,
     "metadata": {},
     "output_type": "execute_result"
    }
   ],
   "source": [
    "#20 6757\n",
    "binary(n-1,1,mem0,mem1)"
   ]
  }
 ],
 "metadata": {
  "kernelspec": {
   "display_name": "Python 3",
   "language": "python",
   "name": "python3"
  },
  "language_info": {
   "codemirror_mode": {
    "name": "ipython",
    "version": 3
   },
   "file_extension": ".py",
   "mimetype": "text/x-python",
   "name": "python",
   "nbconvert_exporter": "python",
   "pygments_lexer": "ipython3",
   "version": "3.6.9"
  },
  "orig_nbformat": 4,
  "vscode": {
   "interpreter": {
    "hash": "31f2aee4e71d21fbe5cf8b01ff0e069b9275f58929596ceb00d14d90e3e16cd6"
   }
  }
 },
 "nbformat": 4,
 "nbformat_minor": 2
}
