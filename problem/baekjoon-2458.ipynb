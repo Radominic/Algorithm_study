{
 "cells": [
  {
   "cell_type": "code",
   "execution_count": null,
   "metadata": {},
   "outputs": [],
   "source": [
    "import sys\n",
    "input = sys.stdin.readline"
   ]
  },
  {
   "cell_type": "code",
   "execution_count": 3,
   "metadata": {},
   "outputs": [
    {
     "name": "stdout",
     "output_type": "stream",
     "text": [
      "6 6\n",
      "1 5\n",
      "3 4\n",
      "5 4\n",
      "4 2\n",
      "4 6\n",
      "5 2\n"
     ]
    }
   ],
   "source": [
    "n,m = list(map(int,input().split()))\n",
    "g=[[0 for _ in range(n+1)]for _ in range(n+1)]\n",
    "\n",
    "for _ in range(m):\n",
    "    a,b = list(map(int,input().split()))\n",
    "    g[a][b]=1"
   ]
  },
  {
   "cell_type": "code",
   "execution_count": 11,
   "metadata": {},
   "outputs": [],
   "source": [
    "for k in range(1,n+1):\n",
    "    for i in range(1,n+1):\n",
    "        for j in range(1,n+1):\n",
    "            if g[i][j]!=1 and g[i][k] == 1 and g[k][j]==1:\n",
    "                g[i][j] =1"
   ]
  },
  {
   "cell_type": "code",
   "execution_count": 13,
   "metadata": {},
   "outputs": [
    {
     "name": "stdout",
     "output_type": "stream",
     "text": [
      "1\n"
     ]
    }
   ],
   "source": [
    "answer=0\n",
    "for i in range(1,n+1):\n",
    "    count=0\n",
    "    for j in range(1,n+1):\n",
    "        count+=g[i][j]+g[j][i]\n",
    "    if count == n-1:\n",
    "        answer+=1\n",
    "print(answer)"
   ]
  }
 ],
 "metadata": {
  "kernelspec": {
   "display_name": "conda",
   "language": "python",
   "name": "base"
  },
  "language_info": {
   "codemirror_mode": {
    "name": "ipython",
    "version": 3
   },
   "file_extension": ".py",
   "mimetype": "text/x-python",
   "name": "python",
   "nbconvert_exporter": "python",
   "pygments_lexer": "ipython3",
   "version": "3.7.7"
  }
 },
 "nbformat": 4,
 "nbformat_minor": 4
}
