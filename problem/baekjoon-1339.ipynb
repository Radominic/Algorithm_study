{
 "cells": [
  {
   "cell_type": "code",
   "execution_count": 123,
   "metadata": {},
   "outputs": [],
   "source": [
    "N=2\n",
    "nums = ['AAA','AAA']\n",
    "nums = ['GCF','ACDEB']\n",
    "n=10\n",
    "nums = ['ABB','BC','BC','BC','BC','BC','BC','BC','BC','BC']"
   ]
  },
  {
   "cell_type": "code",
   "execution_count": 128,
   "metadata": {},
   "outputs": [
    {
     "name": "stdout",
     "output_type": "stream",
     "text": [
      "1772\n"
     ]
    }
   ],
   "source": [
    "from collections import defaultdict\n",
    "\n",
    "max_len = len(max(nums,key=len))\n",
    "dicT=defaultdict(int)\n",
    "\n",
    "temp = []\n",
    "for i in nums:\n",
    "    temp.append(i)\n",
    "\n",
    "while temp:\n",
    "    temp = sorted(temp,key=len,reverse=True)\n",
    "    dicT[temp[0][0]] += 10**len(temp[0])\n",
    "    if len(temp[0])>1:\n",
    "        temp[0] = temp[0][1:]\n",
    "    else:\n",
    "        temp.pop(0)\n",
    "key_val_list = sorted(dicT.items(),key=lambda x: x[1],reverse=True)\n",
    "i=9\n",
    "for key,val in key_val_list:\n",
    "    dicT[key] = str(i)\n",
    "    i-=1\n",
    "\n",
    "result =0\n",
    "for num in nums:\n",
    "    for key in dicT.keys():\n",
    "        num = num.replace(key,dicT[key])\n",
    "    result += int(num)\n",
    "print(result)\n"
   ]
  },
  {
   "cell_type": "code",
   "execution_count": null,
   "metadata": {},
   "outputs": [],
   "source": []
  }
 ],
 "metadata": {
  "kernelspec": {
   "display_name": "fw",
   "language": "python",
   "name": "python3"
  },
  "language_info": {
   "codemirror_mode": {
    "name": "ipython",
    "version": 3
   },
   "file_extension": ".py",
   "mimetype": "text/x-python",
   "name": "python",
   "nbconvert_exporter": "python",
   "pygments_lexer": "ipython3",
   "version": "3.8.16"
  },
  "orig_nbformat": 4
 },
 "nbformat": 4,
 "nbformat_minor": 2
}
