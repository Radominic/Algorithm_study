{
 "cells": [
  {
   "cell_type": "code",
   "execution_count": null,
   "metadata": {},
   "outputs": [],
   "source": [
    "def solution(record):\n",
    "    answer = []\n",
    "    # id = 닉네임으로 매칭되는 딕셔너리 관리\n",
    "    # id 기준으로 입출력 list기록\n",
    "    temp = []\n",
    "    id_nick={}\n",
    "    for mes in record:\n",
    "        if len(mes.split(\" \"))==3:\n",
    "            act, id, nick = mes.split(\" \")\n",
    "        else:\n",
    "            act,id = mes.split(\" \")\n",
    "        if act == \"Enter\":\n",
    "            temp.append([act,id])\n",
    "            id_nick[id] = nick\n",
    "        elif act == \"Leave\":\n",
    "            temp.append([act,id])\n",
    "        else:\n",
    "            id_nick[id] = nick\n",
    "    for i in temp:\n",
    "        act, id = i\n",
    "        if act == \"Enter\":\n",
    "            answer.append(id_nick[id]+\"님이 들어왔습니다.\")\n",
    "        else:\n",
    "            answer.append(id_nick[id]+\"님이 나갔습니다.\")\n",
    "    return answer\n"
   ]
  }
 ],
 "metadata": {
  "kernelspec": {
   "display_name": "conda",
   "language": "python",
   "name": "base"
  },
  "language_info": {
   "codemirror_mode": {
    "name": "ipython",
    "version": 3
   },
   "file_extension": ".py",
   "mimetype": "text/x-python",
   "name": "python",
   "nbconvert_exporter": "python",
   "pygments_lexer": "ipython3",
   "version": "3.7.7"
  }
 },
 "nbformat": 4,
 "nbformat_minor": 4
}
