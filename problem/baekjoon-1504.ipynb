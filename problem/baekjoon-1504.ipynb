{
 "cells": [
  {
   "cell_type": "code",
   "execution_count": null,
   "metadata": {},
   "outputs": [],
   "source": [
    "import sys\n",
    "input=sys.stdin.readline"
   ]
  },
  {
   "cell_type": "code",
   "execution_count": 38,
   "metadata": {},
   "outputs": [
    {
     "name": "stdout",
     "output_type": "stream",
     "text": [
      "4 6\n",
      "1 2 3\n",
      "2 3 3\n",
      "3 4 1\n",
      "1 3 5\n",
      "2 4 5\n",
      "1 4 4\n",
      "2 3\n"
     ]
    }
   ],
   "source": [
    "n,e = list(map(int,input().split()))\n",
    "g=[[] for _ in range(n+1)]\n",
    "for i in range(e):\n",
    "    a,b,c = list(map(int,input().split()))\n",
    "    g[a].append([b,c])\n",
    "    g[b].append([a,c])\n",
    "v1,v2 = list(map(int,input().split()))"
   ]
  },
  {
   "cell_type": "code",
   "execution_count": 39,
   "metadata": {},
   "outputs": [
    {
     "data": {
      "text/plain": [
       "[[],\n",
       " [[2, 3], [3, 5], [4, 4]],\n",
       " [[1, 3], [3, 3], [4, 5]],\n",
       " [[2, 3], [4, 1], [1, 5]],\n",
       " [[3, 1], [2, 5], [1, 4]]]"
      ]
     },
     "execution_count": 39,
     "metadata": {},
     "output_type": "execute_result"
    }
   ],
   "source": [
    "g"
   ]
  },
  {
   "cell_type": "code",
   "execution_count": 40,
   "metadata": {},
   "outputs": [
    {
     "name": "stdout",
     "output_type": "stream",
     "text": [
      "7\n"
     ]
    }
   ],
   "source": [
    "import heapq\n",
    "\n",
    "q=[]\n",
    "\n",
    "def dijkstra(start):\n",
    "    heapq.heappush(q,[0,start])\n",
    "    weight[start]=0\n",
    "    while q:\n",
    "        p_wei,p_node = heapq.heappop(q)\n",
    "        for n_node,n_wei in g[p_node]:\n",
    "            next_wei = p_wei+n_wei\n",
    "            if weight[n_node] > next_wei:\n",
    "                weight[n_node] = next_wei\n",
    "                heapq.heappush(q,[next_wei,n_node])\n",
    "\n",
    "weight=[float('INF') for _ in range(n+1)]\n",
    "dijkstra(1)\n",
    "d1 = weight[v1]# 1~v1\n",
    "d1_= weight[v2]# 1~v2\n",
    "weight=[float('INF') for _ in range(n+1)]\n",
    "dijkstra(v1)\n",
    "d2 = weight[v2]# v1~v2\n",
    "weight=[float('INF') for _ in range(n+1)]\n",
    "dijkstra(v2)\n",
    "d2_= weight[v1]# v2~v1\n",
    "weight=[float('INF') for _ in range(n+1)]\n",
    "dijkstra(v2)\n",
    "d3 = weight[n] # v2~n\n",
    "weight=[float('INF') for _ in range(n+1)]\n",
    "dijkstra(v1)\n",
    "d3_ = weight[n]# v1~n\n",
    "\n",
    "s1 =  d1+d2+d3 \n",
    "s2 =  d1_+d2_+d3_\n",
    "\n",
    "if s1==float('INF')and s2==float('INF'):\n",
    "    print(-1)\n",
    "else: print(min(s1,s2))"
   ]
  },
  {
   "cell_type": "code",
   "execution_count": null,
   "metadata": {},
   "outputs": [],
   "source": []
  }
 ],
 "metadata": {
  "kernelspec": {
   "display_name": "conda",
   "language": "python",
   "name": "base"
  },
  "language_info": {
   "codemirror_mode": {
    "name": "ipython",
    "version": 3
   },
   "file_extension": ".py",
   "mimetype": "text/x-python",
   "name": "python",
   "nbconvert_exporter": "python",
   "pygments_lexer": "ipython3",
   "version": "3.7.7"
  }
 },
 "nbformat": 4,
 "nbformat_minor": 4
}
