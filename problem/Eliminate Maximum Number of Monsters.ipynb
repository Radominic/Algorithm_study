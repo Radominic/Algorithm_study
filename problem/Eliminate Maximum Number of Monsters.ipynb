{
 "cells": [
  {
   "cell_type": "code",
   "execution_count": 64,
   "metadata": {},
   "outputs": [],
   "source": [
    "dist = [1,1,2,3]\n",
    "speed = [1,1,1,1]"
   ]
  },
  {
   "cell_type": "code",
   "execution_count": 65,
   "metadata": {},
   "outputs": [
    {
     "name": "stdout",
     "output_type": "stream",
     "text": [
      "[1.0, 1.0, 2.0, 3.0]\n",
      "[1]\n",
      "[2]\n",
      "[3]\n",
      "4\n"
     ]
    }
   ],
   "source": [
    "class Solution:\n",
    "    def eliminateMaximum(self, dist: List[int], speed: List[int]) -> int:\n",
    "        n = []\n",
    "        for i in range(len(dist)):\n",
    "            n.append(dist[i]/speed[i])\n",
    "        n = sorted(n)\n",
    "        print(n)\n",
    "        for i in range(len(dist)):\n",
    "            if i >= n[i]:\n",
    "                return i\n",
    "        return len(dist)"
   ]
  }
 ],
 "metadata": {
  "kernelspec": {
   "display_name": "conda",
   "language": "python",
   "name": "base"
  },
  "language_info": {
   "codemirror_mode": {
    "name": "ipython",
    "version": 3
   },
   "file_extension": ".py",
   "mimetype": "text/x-python",
   "name": "python",
   "nbconvert_exporter": "python",
   "pygments_lexer": "ipython3",
   "version": "3.7.7"
  }
 },
 "nbformat": 4,
 "nbformat_minor": 4
}
