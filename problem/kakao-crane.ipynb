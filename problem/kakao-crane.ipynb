{
 "cells": [
  {
   "cell_type": "code",
   "execution_count": 212,
   "metadata": {},
   "outputs": [],
   "source": [
    "def solution(board,moves):\n",
    "    answer = 0\n",
    "    arr=[]\n",
    "    for i in moves:\n",
    "        i=i-1\n",
    "        for j in range(len(board)):\n",
    "            if board[j][i] != 0:\n",
    "                arr.append(board[j][i])\n",
    "                board[j][i] = 0\n",
    "                break\n",
    "    length = len(arr)\n",
    "    \n",
    "    while True:\n",
    "        check = 0\n",
    "        for i in range(1,len(arr)):\n",
    "            if arr[i-1] == arr[i]:\n",
    "                if i==1:\n",
    "                    arr = arr[2:]\n",
    "                elif i==len(arr)-1:\n",
    "                    arr = arr[:-2]\n",
    "                else:\n",
    "                    arr = arr[:i-1]+arr[i+1:]\n",
    "                check =1\n",
    "                break\n",
    "        if check == 0:\n",
    "            break\n",
    "    answer = (length -len(arr))\n",
    "    return answer"
   ]
  },
  {
   "cell_type": "code",
   "execution_count": 213,
   "metadata": {},
   "outputs": [],
   "source": [
    "board =[[0,0,0,0,0],[0,0,1,0,3],[0,2,5,0,1],[4,2,4,4,2],[3,5,1,3,1]]"
   ]
  },
  {
   "cell_type": "code",
   "execution_count": 214,
   "metadata": {},
   "outputs": [],
   "source": [
    "moves =[1,5,3,5,1,2,1,4]"
   ]
  },
  {
   "cell_type": "code",
   "execution_count": 215,
   "metadata": {},
   "outputs": [
    {
     "data": {
      "text/plain": [
       "4"
      ]
     },
     "execution_count": 215,
     "metadata": {},
     "output_type": "execute_result"
    }
   ],
   "source": [
    "solution(board,moves)"
   ]
  },
  {
   "cell_type": "code",
   "execution_count": 216,
   "metadata": {},
   "outputs": [],
   "source": [
    "board = [[0, 0, 0, 0, 0], [0, 0, 1, 0, 3], [0, 2, 5, 0, 1], [4, 2, 4, 4, 2], [3, 5, 1, 3, 1]]\n",
    "moves = [1, 5, 3, 5, 1, 2, 5, 1, 4, 3]"
   ]
  },
  {
   "cell_type": "code",
   "execution_count": 217,
   "metadata": {},
   "outputs": [
    {
     "data": {
      "text/plain": [
       "8"
      ]
     },
     "execution_count": 217,
     "metadata": {},
     "output_type": "execute_result"
    }
   ],
   "source": [
    "solution(board,moves)"
   ]
  }
 ],
 "metadata": {
  "kernelspec": {
   "display_name": "Python 3",
   "language": "python",
   "name": "python3"
  },
  "language_info": {
   "codemirror_mode": {
    "name": "ipython",
    "version": 3
   },
   "file_extension": ".py",
   "mimetype": "text/x-python",
   "name": "python",
   "nbconvert_exporter": "python",
   "pygments_lexer": "ipython3",
   "version": "3.6.10"
  }
 },
 "nbformat": 4,
 "nbformat_minor": 4
}
