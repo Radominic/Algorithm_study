{
 "cells": [
  {
   "cell_type": "code",
   "execution_count": 4,
   "metadata": {},
   "outputs": [],
   "source": [
    "s='onetwothree'"
   ]
  },
  {
   "cell_type": "code",
   "execution_count": 5,
   "metadata": {},
   "outputs": [
    {
     "ename": "TypeError",
     "evalue": "replace() argument 2 must be str, not int",
     "output_type": "error",
     "traceback": [
      "\u001b[1;31m---------------------------------------------------------------------------\u001b[0m",
      "\u001b[1;31mTypeError\u001b[0m                                 Traceback (most recent call last)",
      "\u001b[1;32m<ipython-input-5-69adf206cbd1>\u001b[0m in \u001b[0;36m<module>\u001b[1;34m\u001b[0m\n\u001b[1;32m----> 1\u001b[1;33m \u001b[0ms\u001b[0m\u001b[1;33m.\u001b[0m\u001b[0mreplace\u001b[0m\u001b[1;33m(\u001b[0m\u001b[1;34m'one'\u001b[0m\u001b[1;33m,\u001b[0m\u001b[1;36m1\u001b[0m\u001b[1;33m)\u001b[0m\u001b[1;33m\u001b[0m\u001b[1;33m\u001b[0m\u001b[0m\n\u001b[0m",
      "\u001b[1;31mTypeError\u001b[0m: replace() argument 2 must be str, not int"
     ]
    }
   ],
   "source": [
    "s.replace('one',1)"
   ]
  },
  {
   "cell_type": "code",
   "execution_count": 3,
   "metadata": {},
   "outputs": [
    {
     "data": {
      "text/plain": [
       "'onetwothree'"
      ]
     },
     "execution_count": 3,
     "metadata": {},
     "output_type": "execute_result"
    }
   ],
   "source": [
    "s"
   ]
  },
  {
   "cell_type": "code",
   "execution_count": 6,
   "metadata": {},
   "outputs": [],
   "source": [
    "def solution(s):\n",
    "    s=s.replace('zero','0')\n",
    "    s=s.replace('one','1')\n",
    "    s=s.replace('two','2')\n",
    "    s=s.replace('three','3')\n",
    "    s=s.replace('four','4')\n",
    "    s=s.replace('five','5')\n",
    "    s=s.replace('six','6')\n",
    "    s=s.replace('seven','7')\n",
    "    s=s.replace('eight','8')\n",
    "    s=s.replace('nine','9')\n",
    "    answer = s\n",
    "    return answer"
   ]
  },
  {
   "cell_type": "code",
   "execution_count": 8,
   "metadata": {},
   "outputs": [
    {
     "data": {
      "text/plain": [
       "1478"
      ]
     },
     "execution_count": 8,
     "metadata": {},
     "output_type": "execute_result"
    }
   ],
   "source": [
    "int(solution(\"one4seveneight\"))"
   ]
  },
  {
   "cell_type": "code",
   "execution_count": 123,
   "metadata": {},
   "outputs": [],
   "source": [
    "def solution(places):\n",
    "    answer = []\n",
    "    for num,room in enumerate(places):\n",
    "        #print('##############')\n",
    "        point = []\n",
    "        for column,j in enumerate(room):\n",
    "            for row,v in enumerate(j):\n",
    "                if v=='P':\n",
    "                    point.append([column,row])\n",
    "        check = 1\n",
    "        #print(point)\n",
    "        for i in range(len(point)):\n",
    "            for j in range(i+1,len(point)):\n",
    "                #print(point[i],point[j])\n",
    "                #거리연산\n",
    "                distance = 0\n",
    "                for d in range(2):\n",
    "                    distance += abs(point[i][d]-point[j][d])\n",
    "                if distance ==1:\n",
    "                    check =0\n",
    "                elif distance <=2:\n",
    "                    #print('err',point[i],point[j])\n",
    "                    for row in range(min(point[i][0],point[j][0]),max(point[i][0],point[j][0])+1):\n",
    "                        for column in range(min(point[i][1],point[j][1]),max(point[i][1],point[j][1])+1):\n",
    "                            #print(row,column)\n",
    "                            if places[num][row][column] == 'O':\n",
    "                                check = 0\n",
    "                                #print('check')\n",
    "                    #print(point[i],point[j])\n",
    "        answer.append(check)\n",
    "        #print(point)\n",
    "    return answer"
   ]
  },
  {
   "cell_type": "code",
   "execution_count": 124,
   "metadata": {},
   "outputs": [],
   "source": [
    "places=[[\"POOOP\", \"OXXOX\", \"OPXPX\", \"OOXOX\", \"POXXP\"], [\"POOPX\", \"OXPXP\", \"PXXXO\", \"OXXXO\", \"OOOPP\"], [\"PXOPX\", \"OXOXP\", \"OXPXX\", \"OXXXP\", \"POOXX\"], [\"OOOXX\", \"XOOOX\", \"OOOXX\", \"OXOOX\", \"OOOOO\"], [\"PXPXP\", \"XPXPX\", \"PXPXP\", \"XPXPX\", \"PXPXP\"]]"
   ]
  },
  {
   "cell_type": "code",
   "execution_count": 125,
   "metadata": {},
   "outputs": [
    {
     "data": {
      "text/plain": [
       "[['POOOP', 'OXXOX', 'OPXPX', 'OOXOX', 'POXXP'],\n",
       " ['POOPX', 'OXPXP', 'PXXXO', 'OXXXO', 'OOOPP'],\n",
       " ['PXOPX', 'OXOXP', 'OXPXX', 'OXXXP', 'POOXX'],\n",
       " ['OOOXX', 'XOOOX', 'OOOXX', 'OXOOX', 'OOOOO'],\n",
       " ['PXPXP', 'XPXPX', 'PXPXP', 'XPXPX', 'PXPXP']]"
      ]
     },
     "execution_count": 125,
     "metadata": {},
     "output_type": "execute_result"
    }
   ],
   "source": [
    "places"
   ]
  },
  {
   "cell_type": "code",
   "execution_count": 126,
   "metadata": {},
   "outputs": [
    {
     "data": {
      "text/plain": [
       "[1, 0, 1, 1, 1]"
      ]
     },
     "execution_count": 126,
     "metadata": {},
     "output_type": "execute_result"
    }
   ],
   "source": [
    "solution(places)"
   ]
  },
  {
   "cell_type": "code",
   "execution_count": null,
   "metadata": {},
   "outputs": [],
   "source": []
  },
  {
   "cell_type": "code",
   "execution_count": null,
   "metadata": {},
   "outputs": [],
   "source": []
  },
  {
   "cell_type": "code",
   "execution_count": null,
   "metadata": {},
   "outputs": [],
   "source": []
  },
  {
   "cell_type": "code",
   "execution_count": 481,
   "metadata": {},
   "outputs": [],
   "source": [
    "def solution(n, k, cmd):\n",
    "    answer = []\n",
    "    restore=[]\n",
    "    for i in range(n):\n",
    "        answer.append('O') \n",
    "    for cm in cmd:\n",
    "        if len(cm)!=1:\n",
    "            cc = cm.split(\" \")[0]\n",
    "            cn = int(cm.split(\" \")[1])\n",
    "        else:\n",
    "            cc = cm\n",
    "        #print(cm)\n",
    "        #up\n",
    "        if cc == 'U':\n",
    "            check =0\n",
    "            k-=cn\n",
    "            #print(k)\n",
    "            while True:\n",
    "                num = answer[k:k+cn].count('X')\n",
    "                if num==0:\n",
    "                    break\n",
    "                else:\n",
    "                    k-=num\n",
    "                    cn=num\n",
    "            #print(k)\n",
    "        #down\n",
    "        elif cc == 'D':\n",
    "            check =0\n",
    "            k+=cn\n",
    "            #print(k)\n",
    "            while True:\n",
    "                num = answer[k-cn+1:k+1].count('X')\n",
    "                if num==0:\n",
    "                    break\n",
    "                else:\n",
    "                    k+=num\n",
    "                    cn=num\n",
    "            #print(k)\n",
    "        #cut\n",
    "        elif cc == 'C':\n",
    "            answer[k]='X'\n",
    "            restore.append(k)\n",
    "            if k==n-1:\n",
    "                check = 0\n",
    "                for i in range( n-2,-1,-1):\n",
    "                    if answer[i]=='O':\n",
    "                        k=i\n",
    "                        break\n",
    "            else:\n",
    "                \n",
    "                check = 0\n",
    "                while True:\n",
    "                    k+=1\n",
    "                    if answer[k]=='O':\n",
    "                        break\n",
    "        #restore\n",
    "        else:\n",
    "            answer[restore.pop()]='O'\n",
    "    answers = ''        \n",
    "    for i in answer:\n",
    "        if i=='O':\n",
    "            answers+='O'\n",
    "        else:\n",
    "            answers+='X'\n",
    "    return answers"
   ]
  },
  {
   "cell_type": "code",
   "execution_count": 482,
   "metadata": {},
   "outputs": [],
   "source": [
    "cmd = [\"D 2\",\"C\",\"U 3\",\"C\",\"D 4\",\"C\",\"U 2\",\"Z\",\"Z\",\"U 1\",\"C\"]"
   ]
  },
  {
   "cell_type": "code",
   "execution_count": 483,
   "metadata": {},
   "outputs": [],
   "source": [
    "n=8"
   ]
  },
  {
   "cell_type": "code",
   "execution_count": 484,
   "metadata": {},
   "outputs": [],
   "source": [
    "k = 2"
   ]
  },
  {
   "cell_type": "code",
   "execution_count": 485,
   "metadata": {
    "scrolled": true
   },
   "outputs": [
    {
     "data": {
      "text/plain": [
       "'OOXOXOOO'"
      ]
     },
     "execution_count": 485,
     "metadata": {},
     "output_type": "execute_result"
    }
   ],
   "source": [
    "solution(8,2,cmd)"
   ]
  },
  {
   "cell_type": "code",
   "execution_count": 486,
   "metadata": {},
   "outputs": [
    {
     "data": {
      "text/plain": [
       "(21, 27)"
      ]
     },
     "execution_count": 486,
     "metadata": {},
     "output_type": "execute_result"
    }
   ],
   "source": [
    "21,27"
   ]
  },
  {
   "cell_type": "code",
   "execution_count": 487,
   "metadata": {},
   "outputs": [],
   "source": [
    "st= 'OOOOXOOOX'"
   ]
  },
  {
   "cell_type": "code",
   "execution_count": 488,
   "metadata": {},
   "outputs": [
    {
     "data": {
      "text/plain": [
       "8"
      ]
     },
     "execution_count": 488,
     "metadata": {},
     "output_type": "execute_result"
    }
   ],
   "source": [
    "st.index('X',-1)"
   ]
  },
  {
   "cell_type": "code",
   "execution_count": 489,
   "metadata": {},
   "outputs": [
    {
     "data": {
      "text/plain": [
       "1"
      ]
     },
     "execution_count": 489,
     "metadata": {},
     "output_type": "execute_result"
    }
   ],
   "source": [
    "st[3:].index('X')"
   ]
  },
  {
   "cell_type": "code",
   "execution_count": 490,
   "metadata": {},
   "outputs": [
    {
     "name": "stdout",
     "output_type": "stream",
     "text": [
      "10\n",
      "9\n",
      "8\n",
      "7\n",
      "6\n",
      "5\n",
      "4\n",
      "3\n",
      "2\n",
      "1\n",
      "0\n"
     ]
    }
   ],
   "source": [
    "for i in range(10,-1,-1):\n",
    "    print(i)"
   ]
  },
  {
   "cell_type": "code",
   "execution_count": 534,
   "metadata": {},
   "outputs": [],
   "source": [
    "def solution(n, k, cmd):\n",
    "    answer = ''\n",
    "    restore=[]\n",
    "    index = []\n",
    "    for i in range(n):\n",
    "        index.append(i)\n",
    "    for cm in cmd:\n",
    "        if len(cm)!=1:\n",
    "            cc = cm.split(\" \")[0]\n",
    "            cn = int(cm.split(\" \")[1])\n",
    "        else:\n",
    "            cc = cm\n",
    "        #up\n",
    "        if cc == 'U':\n",
    "            k = index[index.index(k)-cn]\n",
    "        #down\n",
    "        elif cc == 'D':\n",
    "            k = index[index.index(k)+cn]\n",
    "        #cut\n",
    "        elif cc == 'C':\n",
    "            #answer[k]='X'\n",
    "            temp = index.index(k)\n",
    "            index.remove(k)\n",
    "            restore.append(k)\n",
    "            if k==n-1:\n",
    "                k=index[-1]\n",
    "            else:\n",
    "                k = index[temp]\n",
    "        #restore\n",
    "        else:\n",
    "            index.append(restore.pop())\n",
    "            index.sort()\n",
    "    for i in range(n):\n",
    "        if i in index:\n",
    "            answer+='O'\n",
    "        else:\n",
    "            answer+='X'\n",
    "    return answer"
   ]
  },
  {
   "cell_type": "code",
   "execution_count": 535,
   "metadata": {},
   "outputs": [],
   "source": [
    "cmd = [\"D 2\",\"C\",\"U 3\",\"C\",\"D 4\",\"C\",\"U 2\",\"Z\",\"Z\"]"
   ]
  },
  {
   "cell_type": "code",
   "execution_count": 536,
   "metadata": {},
   "outputs": [],
   "source": [
    "n=8\n",
    "k=2"
   ]
  },
  {
   "cell_type": "code",
   "execution_count": 537,
   "metadata": {},
   "outputs": [
    {
     "data": {
      "text/plain": [
       "'OOOOXOOO'"
      ]
     },
     "execution_count": 537,
     "metadata": {},
     "output_type": "execute_result"
    }
   ],
   "source": [
    "solution(8,2,cmd)"
   ]
  },
  {
   "cell_type": "code",
   "execution_count": 654,
   "metadata": {},
   "outputs": [],
   "source": [
    "def solution(n, k, cmd):\n",
    "    answer = ''\n",
    "    restore=[]\n",
    "    index = []\n",
    "    for i in range(n):\n",
    "        index.append(i)\n",
    "    for cm in cmd:\n",
    "        print(cm)\n",
    "        print(index,k)\n",
    "        if len(cm)!=1:\n",
    "            cc = cm.split(\" \")[0]\n",
    "            cn = int(cm.split(\" \")[1])\n",
    "        else:\n",
    "            cc = cm\n",
    "        #up\n",
    "        if cc == 'U':\n",
    "            k -=cn\n",
    "        #down\n",
    "        elif cc == 'D':\n",
    "            k += cn\n",
    "        #cut\n",
    "        elif cc == 'C':\n",
    "            restore.append(index[k])\n",
    "            \n",
    "            index.remove(index[k])\n",
    "            #index = index[:k]+index[k+1:]\n",
    "            \n",
    "            if k == len(index):\n",
    "                k-=1\n",
    "        #restore\n",
    "        else:\n",
    "            temp = restore.pop()\n",
    "            if temp >index[-1]:\n",
    "                index.append(temp)\n",
    "            else:\n",
    "                if temp < index[k]:\n",
    "                    k+=1\n",
    "                for i,v in enumerate(index):\n",
    "                    if v>temp:\n",
    "                        index.insert(temp,i)\n",
    "                        break\n",
    "            #index.append(temp)\n",
    "            #index.sort()\n",
    "    for i in range(n):\n",
    "        if i in index:\n",
    "            answer+='O'\n",
    "        else:\n",
    "            answer+='X'\n",
    "    return answer"
   ]
  },
  {
   "cell_type": "code",
   "execution_count": 673,
   "metadata": {},
   "outputs": [],
   "source": [
    "cmd = \t[\"D 2\",\"C\",\"U 3\",\"C\",\"D 4\",\"C\",\"U 2\",\"Z\",\"Z\",\"U 1\",\"C\"]"
   ]
  },
  {
   "cell_type": "code",
   "execution_count": 674,
   "metadata": {},
   "outputs": [],
   "source": [
    "n=8\n",
    "k=2"
   ]
  },
  {
   "cell_type": "code",
   "execution_count": 675,
   "metadata": {},
   "outputs": [
    {
     "data": {
      "text/plain": [
       "'OOXOXOOO'"
      ]
     },
     "execution_count": 675,
     "metadata": {},
     "output_type": "execute_result"
    }
   ],
   "source": [
    "solution(8,2,cmd)"
   ]
  },
  {
   "cell_type": "code",
   "execution_count": 669,
   "metadata": {},
   "outputs": [],
   "source": [
    "def solution(n, k, cmd):\n",
    "    answer = ''\n",
    "    restore=[]\n",
    "    index = []\n",
    "    for i in range(n):\n",
    "        index.append(i)\n",
    "    for cm in cmd:\n",
    "        #print(cm)\n",
    "        #print(index,k)\n",
    "        if len(cm)!=1:\n",
    "            cc = cm.split(\" \")[0]\n",
    "            cn = int(cm.split(\" \")[1])\n",
    "        else:\n",
    "            cc = cm\n",
    "        #up\n",
    "        if cc == 'U':\n",
    "            k -=cn\n",
    "        #down\n",
    "        elif cc == 'D':\n",
    "            k += cn\n",
    "        #cut\n",
    "        elif cc == 'C':\n",
    "            restore.append(index[k])\n",
    "            index.remove(index[k])\n",
    "            #index = index[:k]+index[k+1:]\n",
    "            if k == len(index):\n",
    "                k-=1\n",
    "        #restore\n",
    "        else:\n",
    "            temp = restore.pop()\n",
    "            if temp >index[-1]:\n",
    "                index.append(temp)\n",
    "            elif temp < index[0]:\n",
    "                index.insert(temp,0)\n",
    "            else:\n",
    "                if temp < index[k]:\n",
    "                    k+=1\n",
    "                index.append(temp)\n",
    "                index.sort()\n",
    "    for i in range(n):\n",
    "        if i in index:\n",
    "            answer+='O'\n",
    "        else:\n",
    "            answer+='X'\n",
    "    return answer"
   ]
  },
  {
   "cell_type": "code",
   "execution_count": null,
   "metadata": {},
   "outputs": [],
   "source": []
  }
 ],
 "metadata": {
  "kernelspec": {
   "display_name": "Python 3",
   "language": "python",
   "name": "python3"
  },
  "language_info": {
   "codemirror_mode": {
    "name": "ipython",
    "version": 3
   },
   "file_extension": ".py",
   "mimetype": "text/x-python",
   "name": "python",
   "nbconvert_exporter": "python",
   "pygments_lexer": "ipython3",
   "version": "3.6.10"
  }
 },
 "nbformat": 4,
 "nbformat_minor": 4
}
