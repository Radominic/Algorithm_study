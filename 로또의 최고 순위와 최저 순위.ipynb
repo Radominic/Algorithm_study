{
 "cells": [
  {
   "cell_type": "code",
   "execution_count": 51,
   "metadata": {},
   "outputs": [],
   "source": [
    "lottos = [1,2,5,6,12,111]\n",
    "win_nums=[20, 9, 3, 45, 4, 35]"
   ]
  },
  {
   "cell_type": "code",
   "execution_count": 52,
   "metadata": {},
   "outputs": [],
   "source": [
    "def solution(lottos, win_nums):\n",
    "    answer = []\n",
    "    # 일치하는 번호 제거\n",
    "    count =0\n",
    "    z=0\n",
    "    for n in win_nums:\n",
    "        if n in lottos:\n",
    "            count+=1\n",
    "    for n in lottos:\n",
    "        if n == 0:\n",
    "            z+=1\n",
    "    min_p = count\n",
    "    max_p = z+min_p\n",
    "    \n",
    "    #하나도 못맞췄을경우 예외\n",
    "    if min_p == 0:\n",
    "        min_p = 1\n",
    "    if max_p == 0:\n",
    "        max_p=1\n",
    "    \n",
    "    answer = [7-max_p,7-min_p]\n",
    "    # 남은 번호중, 일치하는 번호와 중복되지않으면서, 가능한 최고 및 최저 당첨 구하기\n",
    "    return answer"
   ]
  },
  {
   "cell_type": "code",
   "execution_count": 53,
   "metadata": {},
   "outputs": [
    {
     "data": {
      "text/plain": [
       "[6, 6]"
      ]
     },
     "execution_count": 53,
     "metadata": {},
     "output_type": "execute_result"
    }
   ],
   "source": [
    "solution(lottos,win_nums)"
   ]
  },
  {
   "cell_type": "code",
   "execution_count": null,
   "metadata": {},
   "outputs": [],
   "source": []
  }
 ],
 "metadata": {
  "kernelspec": {
   "display_name": "conda",
   "language": "python",
   "name": "base"
  },
  "language_info": {
   "codemirror_mode": {
    "name": "ipython",
    "version": 3
   },
   "file_extension": ".py",
   "mimetype": "text/x-python",
   "name": "python",
   "nbconvert_exporter": "python",
   "pygments_lexer": "ipython3",
   "version": "3.7.7"
  }
 },
 "nbformat": 4,
 "nbformat_minor": 4
}
