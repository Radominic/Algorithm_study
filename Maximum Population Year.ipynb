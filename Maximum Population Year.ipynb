{
 "cells": [
  {
   "cell_type": "code",
   "execution_count": 18,
   "metadata": {},
   "outputs": [],
   "source": [
    "logs = [[1950,1961],[1960,1971],[1970,1981]]"
   ]
  },
  {
   "cell_type": "code",
   "execution_count": 19,
   "metadata": {},
   "outputs": [
    {
     "name": "stdout",
     "output_type": "stream",
     "text": [
      "1960\n"
     ]
    }
   ],
   "source": [
    "minimum=9999\n",
    "maximum=0\n",
    "for i in logs:\n",
    "    for j in i:\n",
    "        if j < minimum:\n",
    "            minimum = j\n",
    "        if j > maximum:\n",
    "            maximum = j\n",
    "length = maximum-minimum\n",
    "count = []\n",
    "for i in range(length):\n",
    "    count.append(0)\n",
    "for i in logs:\n",
    "    for j in range(i[0]-minimum,i[1]-minimum):\n",
    "        count[j]+=1\n",
    "maximum_an = max(count)\n",
    "for i,v in enumerate(count):\n",
    "    if v == maximum_an:\n",
    "        print(i+minimum)\n",
    "        break"
   ]
  },
  {
   "cell_type": "code",
   "execution_count": null,
   "metadata": {},
   "outputs": [],
   "source": []
  }
 ],
 "metadata": {
  "kernelspec": {
   "display_name": "Python 3",
   "language": "python",
   "name": "python3"
  },
  "language_info": {
   "codemirror_mode": {
    "name": "ipython",
    "version": 3
   },
   "file_extension": ".py",
   "mimetype": "text/x-python",
   "name": "python",
   "nbconvert_exporter": "python",
   "pygments_lexer": "ipython3",
   "version": "3.6.10"
  }
 },
 "nbformat": 4,
 "nbformat_minor": 4
}
